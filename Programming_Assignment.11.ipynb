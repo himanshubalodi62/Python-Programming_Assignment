{
 "cells": [
  {
   "cell_type": "markdown",
   "id": "1bf8a2a1",
   "metadata": {},
   "source": [
    "# Programming_Assignment.11 solution\n"
   ]
  },
  {
   "cell_type": "markdown",
   "id": "2037ef13",
   "metadata": {},
   "source": [
    "### 1. Write a Python program to find words which are greater than given length k ?"
   ]
  },
  {
   "cell_type": "code",
   "execution_count": 1,
   "id": "d9dd074c",
   "metadata": {},
   "outputs": [
    {
     "name": "stdout",
     "output_type": "stream",
     "text": [
      "Enter the string :Ineuron full stack Data science course\n",
      "Enter the length of the string:4\n",
      "Ineuron,stack,science,course\n"
     ]
    }
   ],
   "source": [
    "def checkLengthOfstring():\n",
    "    in_string = input(\"Enter the string :\")\n",
    "    in_length = int(input(\"Enter the length of the string:\"))\n",
    "    out_string = []\n",
    "    for string in in_string.split(\" \"):\n",
    "        if len(string) > in_length:\n",
    "            out_string.append(string)\n",
    "    print(','.join(out_string))\n",
    "\n",
    "checkLengthOfstring()"
   ]
  },
  {
   "cell_type": "markdown",
   "id": "a804cf8d",
   "metadata": {},
   "source": [
    "### 2. Write a Python program for removing i-th character from a string ?"
   ]
  },
  {
   "cell_type": "code",
   "execution_count": 2,
   "id": "1cec606e",
   "metadata": {},
   "outputs": [
    {
     "name": "stdout",
     "output_type": "stream",
     "text": [
      "Enter a string: EducationSystem\n",
      "Enter the index of the character to remove: 2\n",
      "The new string after removing the character at index 2 is: EdcationSystem\n"
     ]
    }
   ],
   "source": [
    "string = input(\"Enter a string: \")\n",
    "\n",
    "index = int(input(\"Enter the index of the character to remove: \"))\n",
    "\n",
    "new_string = string[:index] + string[index+1:]\n",
    "\n",
    "print(\"The new string after removing the character at index\", index, \"is:\", new_string)"
   ]
  },
  {
   "cell_type": "markdown",
   "id": "2f64dcb1",
   "metadata": {},
   "source": [
    "### 3. Write a Python program to split and join a string ?"
   ]
  },
  {
   "cell_type": "code",
   "execution_count": 3,
   "id": "5e823c47",
   "metadata": {},
   "outputs": [
    {
     "name": "stdout",
     "output_type": "stream",
     "text": [
      "Enter the string:Data science course is fantastic\n",
      "split string ['Data', 'science', 'course', 'is', 'fantastic']\n",
      "Join string Data science course is fantastic\n"
     ]
    }
   ],
   "source": [
    "def splitJoinString():\n",
    "    in_string = input(\"Enter the string:\")\n",
    "    print(f\"split string {in_string.split(' ')}\")\n",
    "    print(f\"Join string {' '.join(in_string.split(' '))}\")\n",
    "\n",
    "splitJoinString()"
   ]
  },
  {
   "cell_type": "markdown",
   "id": "55d6e277",
   "metadata": {},
   "source": [
    "### 4. Write a Python to check if a given string is binary string or not ?"
   ]
  },
  {
   "cell_type": "code",
   "execution_count": 4,
   "id": "a89b08c4",
   "metadata": {},
   "outputs": [
    {
     "name": "stdout",
     "output_type": "stream",
     "text": [
      "Enter a string: 1010101\n",
      "The string is a binary string\n"
     ]
    }
   ],
   "source": [
    "\n",
    "string = input(\"Enter a string: \")\n",
    "\n",
    "if all(char in '01' for char in string):\n",
    "    print(\"The string is a binary string\")\n",
    "else:\n",
    "    print(\"The string is not a binary string\")"
   ]
  },
  {
   "cell_type": "code",
   "execution_count": 5,
   "id": "cf2f1620",
   "metadata": {},
   "outputs": [
    {
     "name": "stdout",
     "output_type": "stream",
     "text": [
      "Enter the string: 423434\n",
      "423434 is not a binart string\n",
      "Enter the string: 1000101010101\n",
      "1000101010101 is a binary string\n"
     ]
    }
   ],
   "source": [
    "def checkBinary():\n",
    "    in_string = input('Enter the string: ')\n",
    "    stun = 0\n",
    "    for ele in in_string:\n",
    "        if ele in ['0','1']:\n",
    "            stun = 1\n",
    "            continue\n",
    "        else:\n",
    "            stun = 0\n",
    "            break\n",
    "    statement = 'is a binary string' if stun == 1 else 'is not a binart string' \n",
    "    print(f'{in_string} {statement}')\n",
    "\n",
    "checkBinary()\n",
    "checkBinary()"
   ]
  },
  {
   "cell_type": "markdown",
   "id": "7038ca90",
   "metadata": {},
   "source": [
    "### 5. Write a Python program to find uncommon words from two Strings ?"
   ]
  },
  {
   "cell_type": "code",
   "execution_count": 6,
   "id": "3fc915d3",
   "metadata": {},
   "outputs": [
    {
     "name": "stdout",
     "output_type": "stream",
     "text": [
      "['mango', 'peach']\n"
     ]
    }
   ],
   "source": [
    "def uncommon(s1,s2):\n",
    "    s1=s1.split()\n",
    "    s2=s2.split()\n",
    "    k=set(s1).symmetric_difference(set(s2))\n",
    "    return k\n",
    "\n",
    "a = \"berry mango cherry\"\n",
    "b = \"berry peach cherry\"\n",
    "print(list(uncommon(a,b)))\n",
    "\n",
    "    "
   ]
  },
  {
   "cell_type": "markdown",
   "id": "ca0c3094",
   "metadata": {},
   "source": [
    "### 6. Write a Python to find all duplicate characters in string ?"
   ]
  },
  {
   "cell_type": "code",
   "execution_count": 7,
   "id": "bf20ce59",
   "metadata": {},
   "outputs": [
    {
     "name": "stdout",
     "output_type": "stream",
     "text": [
      "Enter a string: Ineuron full stack data science course\n",
      "The duplicate characters in the string are: {'c', 'n', 'a', 's', 'e', ' ', 'l', 't', 'u', 'r', 'o'}\n"
     ]
    }
   ],
   "source": [
    "string = input(\"Enter a string: \")\n",
    "\n",
    "duplicate_chars = set()\n",
    "unique_chars = set()\n",
    "for char in string:\n",
    "    if char in unique_chars:\n",
    "        duplicate_chars.add(char)\n",
    "    else:\n",
    "        unique_chars.add(char)\n",
    "\n",
    "print(\"The duplicate characters in the string are:\", duplicate_chars)"
   ]
  },
  {
   "cell_type": "markdown",
   "id": "9ae4cd8b",
   "metadata": {},
   "source": [
    "### 7. Write a Python Program to check if a string contains any special character?"
   ]
  },
  {
   "cell_type": "code",
   "execution_count": 8,
   "id": "bee4eb61",
   "metadata": {},
   "outputs": [
    {
     "name": "stdout",
     "output_type": "stream",
     "text": [
      "Enter the string: Ds ineuron by @sudhanshu & @krish naik\n",
      "There are 3 Speical Characters in Ds ineuron by @sudhanshu & @krish naik which are ['@', '&', '@']\n"
     ]
    }
   ],
   "source": [
    "def checkSpecialChar():\n",
    "    spl_chars = '[@_!#$%^&*()<>?/\\|}{~:]'\n",
    "    in_num = input('Enter the string: ')\n",
    "    count = 0\n",
    "    char_list = []\n",
    "    for ele in in_num:\n",
    "        if ele in spl_chars:\n",
    "            char_list.append(ele)\n",
    "            count = count+1\n",
    "    print(f'There are {count} Speical Characters in {in_num} which are {char_list}')\n",
    "            \n",
    "        \n",
    "checkSpecialChar()\n"
   ]
  },
  {
   "cell_type": "code",
   "execution_count": null,
   "id": "99a8f117",
   "metadata": {},
   "outputs": [],
   "source": []
  }
 ],
 "metadata": {
  "kernelspec": {
   "display_name": "Python 3 (ipykernel)",
   "language": "python",
   "name": "python3"
  },
  "language_info": {
   "codemirror_mode": {
    "name": "ipython",
    "version": 3
   },
   "file_extension": ".py",
   "mimetype": "text/x-python",
   "name": "python",
   "nbconvert_exporter": "python",
   "pygments_lexer": "ipython3",
   "version": "3.10.9"
  }
 },
 "nbformat": 4,
 "nbformat_minor": 5
}
