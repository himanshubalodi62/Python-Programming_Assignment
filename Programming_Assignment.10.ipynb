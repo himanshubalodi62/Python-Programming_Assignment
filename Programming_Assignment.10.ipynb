{
 "cells": [
  {
   "cell_type": "markdown",
   "id": "c591106e",
   "metadata": {},
   "source": [
    "# Programming Assignment 10 solution"
   ]
  },
  {
   "cell_type": "markdown",
   "id": "3020d8db",
   "metadata": {},
   "source": [
    "### 1.Write a Python Program to find sum of elements in a list ?"
   ]
  },
  {
   "cell_type": "code",
   "execution_count": 1,
   "id": "f1704204",
   "metadata": {},
   "outputs": [
    {
     "name": "stdout",
     "output_type": "stream",
     "text": [
      "Enter the No of Entries in a list:5\n",
      "Enter a element: 1\n",
      "Enter a element: 2\n",
      "Enter a element: 3\n",
      "Enter a element: 4\n",
      "Enter a element: 5\n",
      "Sum of Elements: 15\n"
     ]
    }
   ],
   "source": [
    "def sumoflist():\n",
    "    in_ele = int(input('Enter the No of Entries in a list:'))\n",
    "    in_list = []\n",
    "    for i in range(in_ele):\n",
    "        in_list.append(int(input('Enter a element: ')))\n",
    "    print(f'Sum of Elements: {sum(in_list)}')\n",
    "\n",
    "sumoflist()"
   ]
  },
  {
   "cell_type": "markdown",
   "id": "1be4561d",
   "metadata": {},
   "source": [
    "### 2.Write a Python Program to multiply all numbers in the list ?"
   ]
  },
  {
   "cell_type": "code",
   "execution_count": 2,
   "id": "4bae0172",
   "metadata": {},
   "outputs": [
    {
     "name": "stdout",
     "output_type": "stream",
     "text": [
      "The multiply of all number: -336\n"
     ]
    }
   ],
   "source": [
    "def multiply(numbers):  \n",
    "    total = 1\n",
    "    for x in numbers:\n",
    "        total *= x  \n",
    "    return total  \n",
    "numbers = (8,2,3,-1,7)\n",
    "print(\"The multiply of all number:\", multiply((numbers)))"
   ]
  },
  {
   "cell_type": "markdown",
   "id": "ba0647d7",
   "metadata": {},
   "source": [
    "### 3.Write a Python Program to find smallest number in the list ?"
   ]
  },
  {
   "cell_type": "code",
   "execution_count": 3,
   "id": "2b7f3253",
   "metadata": {},
   "outputs": [
    {
     "name": "stdout",
     "output_type": "stream",
     "text": [
      "smallest number is : -8\n"
     ]
    }
   ],
   "source": [
    "def smallest_number(list):\n",
    "    min = list[0]\n",
    "    for i in list:\n",
    "        if i < min:\n",
    "            min = i\n",
    "    return min\n",
    "list = [0,-8,2,1]\n",
    "print(\"smallest number is :\", smallest_number(list))"
   ]
  },
  {
   "cell_type": "markdown",
   "id": "3a1fc36e",
   "metadata": {},
   "source": [
    "### 4.Write a Python Program to find largest number in the list ?"
   ]
  },
  {
   "cell_type": "code",
   "execution_count": 7,
   "id": "c3595d50",
   "metadata": {},
   "outputs": [
    {
     "name": "stdout",
     "output_type": "stream",
     "text": [
      "largest number is: 3234\n"
     ]
    }
   ],
   "source": [
    "def largest_number(list):\n",
    "    max = list[0]\n",
    "    for i in list:\n",
    "        if i > max:\n",
    "            max = i\n",
    "    return max\n",
    "list = [232,3234,453,55]\n",
    "print(\"largest number is:\", largest_number(list))"
   ]
  },
  {
   "cell_type": "markdown",
   "id": "4bdaafdf",
   "metadata": {},
   "source": [
    "### 5.Write a Python Program to find second largest number in the list ?"
   ]
  },
  {
   "cell_type": "code",
   "execution_count": 8,
   "id": "55a7ebc8",
   "metadata": {},
   "outputs": [
    {
     "name": "stdout",
     "output_type": "stream",
     "text": [
      "Enter the No of elements in list5\n",
      "Enter a element12\n",
      "Enter a element43\n",
      "Enter a element56\n",
      "Enter a element42\n",
      "Enter a element57\n",
      "Second largest element is: 56\n"
     ]
    }
   ],
   "source": [
    "def SecondLargestnumberInList():\n",
    "    in_ele = int(input(\"Enter the No of elements in list\"))\n",
    "    in_list = []\n",
    "    for i in range(in_ele):\n",
    "        in_list.append(int(input(\"Enter a element\")))\n",
    "        in_list.sort()  \n",
    "    print(\"Second largest element is:\", in_list[-2])  \n",
    "\n",
    "SecondLargestnumberInList()"
   ]
  },
  {
   "cell_type": "markdown",
   "id": "61e5635d",
   "metadata": {},
   "source": [
    "### 6.Write a Python Program to find N largest elements in the list ?"
   ]
  },
  {
   "cell_type": "code",
   "execution_count": 9,
   "id": "aeea5297",
   "metadata": {},
   "outputs": [
    {
     "name": "stdout",
     "output_type": "stream",
     "text": [
      "The 3 largest elements in [2, 5, 1, 8, 3, 10, 6] are [10, 8, 6]\n"
     ]
    }
   ],
   "source": [
    "def find_n_largest_elements(lst,n):\n",
    "    \"\"\"\n",
    "    Returns a list of the N largest elements in the input list\n",
    "    \"\"\"\n",
    "    sorted_lst = sorted(lst,reverse=True)\n",
    "    return sorted_lst[:n]\n",
    "lst = [2,5,1,8,3,10,6]\n",
    "n = 3\n",
    "n_largest_elements = find_n_largest_elements(lst,n)\n",
    "print(f\"The {n} largest elements in {lst} are {n_largest_elements}\")\n",
    "\n",
    "\n",
    "\n",
    "    "
   ]
  },
  {
   "cell_type": "markdown",
   "id": "1d15268e",
   "metadata": {},
   "source": [
    "#### 7.Write a Python Program to find even numbers in the list ?"
   ]
  },
  {
   "cell_type": "code",
   "execution_count": 10,
   "id": "6c17ec5b",
   "metadata": {},
   "outputs": [
    {
     "name": "stdout",
     "output_type": "stream",
     "text": [
      "Enter the No of elements in a list:10\n",
      "Enter a Elements1\n",
      "Enter a Elements2\n",
      "Enter a Elements3\n",
      "Enter a Elements4\n",
      "Enter a Elements5\n",
      "Enter a Elements6\n",
      "Enter a Elements7\n",
      "Enter a Elements8\n",
      "Enter a Elements9\n",
      "Enter a Elements10\n",
      "The even Elements in [1, 2, 3, 4, 5, 6, 7, 8, 9, 10] are [2, 4, 6, 8, 10]\n"
     ]
    }
   ],
   "source": [
    "def evenNoInList():\n",
    "    in_ele = int(input(\"Enter the No of elements in a list:\"))\n",
    "    in_list = []\n",
    "    even_list = []\n",
    "    for ele in range(in_ele):\n",
    "        in_list.append(int(input(\"Enter a Elements\")))\n",
    "    for ele in in_list:\n",
    "        if ele%2 == 0:\n",
    "            even_list.append(ele)\n",
    "            \n",
    "    print(f\"The even Elements in {in_list} are {even_list}\")\n",
    "    \n",
    "evenNoInList()\n",
    "    "
   ]
  },
  {
   "cell_type": "markdown",
   "id": "43b133b5",
   "metadata": {},
   "source": [
    "### 8.Write a Python Program to find odd numbers in the list ?"
   ]
  },
  {
   "cell_type": "code",
   "execution_count": 11,
   "id": "6df17976",
   "metadata": {},
   "outputs": [
    {
     "name": "stdout",
     "output_type": "stream",
     "text": [
      "Enter the No of elements in a list: 10\n",
      "Enter a Element: 1\n",
      "Enter a Element: 2\n",
      "Enter a Element: 3\n",
      "Enter a Element: 4\n",
      "Enter a Element: 5\n",
      "Enter a Element: 6\n",
      "Enter a Element: 7\n",
      "Enter a Element: 8\n",
      "Enter a Element: 9\n",
      "Enter a Element: 10\n",
      "The odd Elements in [1, 2, 3, 4, 5, 6, 7, 8, 9, 10] are [1, 3, 5, 7, 9]\n"
     ]
    }
   ],
   "source": [
    "def oddNoInList():\n",
    "    in_ele = int(input('Enter the No of elements in a list: '))\n",
    "    in_list = []\n",
    "    odd_list = []\n",
    "    for ele in range(in_ele):\n",
    "        in_list.append(int(input('Enter a Element: ')))\n",
    "    for ele in in_list:\n",
    "        if ele%2 != 0:\n",
    "            odd_list.append(ele)\n",
    "    print(f'The odd Elements in {in_list} are {odd_list}')\n",
    "\n",
    "oddNoInList()"
   ]
  },
  {
   "cell_type": "markdown",
   "id": "b91d7137",
   "metadata": {},
   "source": [
    "### 9.Write a Python Program to remove empty list from list ?"
   ]
  },
  {
   "cell_type": "code",
   "execution_count": 14,
   "id": "c80d69c8",
   "metadata": {},
   "outputs": [
    {
     "name": "stdout",
     "output_type": "stream",
     "text": [
      "The list before empty list: [1, 2, [], 3, [], 4, [], 5, []]\n",
      "The list after removing empty lists: [1, 2, 3, 4, 5]\n"
     ]
    }
   ],
   "source": [
    "my_list = [1, 2, [], 3, [], 4, [], 5, []]\n",
    "print(\"The list before empty list:\",my_list)\n",
    "my_list = [x for x in my_list if x]\n",
    "\n",
    "print(\"The list after removing empty lists:\", my_list)"
   ]
  },
  {
   "cell_type": "markdown",
   "id": "e257ef6e",
   "metadata": {},
   "source": [
    "### 10.Write a Python Program to Cloning or Copying a list ?"
   ]
  },
  {
   "cell_type": "code",
   "execution_count": 21,
   "id": "df5d354f",
   "metadata": {},
   "outputs": [
    {
     "name": "stdout",
     "output_type": "stream",
     "text": [
      "Clone List:   [7, 8, 9, 5, 4, 6, 5, 6]\n",
      "Clone List:   [25, 85, 68, 74, 85, 91]\n",
      "Clone List:   [65, 75, 85, 95, 95, 85, 75, 65]\n",
      "Enter a list[34,454,56,67,77,34]\n",
      "[34, 454, 56, 67, 77, 34] 2587806258112\n",
      "[34, 454, 56, 67, 77, 34] 2587806259008\n"
     ]
    }
   ],
   "source": [
    "def clone_list1(l):\n",
    "    '''\n",
    "    This function will clone a list using copy()\n",
    "    '''\n",
    "    output= l.copy()\n",
    "    \n",
    "    return output\n",
    "        \n",
    "l= [7,8,9,5,4,6,5,6]\n",
    "print(\"Clone List:  \",clone_list1(l))\n",
    "\n",
    "\n",
    "def clone_list2(l):\n",
    "    '''\n",
    "    This function will clone a list using slicing\n",
    "    '''\n",
    "    output= l[:]\n",
    "    \n",
    "    return output\n",
    "        \n",
    "l= [25,85,68,74,85,91]\n",
    "print(\"Clone List:  \",clone_list2(l))\n",
    "\n",
    "def clone_list3(l):\n",
    "    '''\n",
    "    This function will clone a list using assignment operator\n",
    "    '''\n",
    "    output= l\n",
    "    \n",
    "    return output\n",
    "        \n",
    "l= [65,75,85,95,95,85,75,65]\n",
    "print(\"Clone List:  \",clone_list4(l))\n",
    "\n",
    "\n",
    "import copy\n",
    "\n",
    "def cloneList():\n",
    "    in_list = eval(input('Enter a list'))\n",
    "    print(in_list, id(in_list))\n",
    "    cloned_list = in_list.copy()\n",
    "    print(cloned_list, id(cloned_list))\n",
    "\n",
    "cloneList()\n"
   ]
  },
  {
   "cell_type": "markdown",
   "id": "3b3e80cc",
   "metadata": {},
   "source": [
    "### 11.Write a Python Program to count occurences of an element in a list ?"
   ]
  },
  {
   "cell_type": "code",
   "execution_count": 22,
   "id": "995675ca",
   "metadata": {},
   "outputs": [
    {
     "name": "stdout",
     "output_type": "stream",
     "text": [
      "Enter the elements of the list: 3\n",
      "Enter the element to find: A\n"
     ]
    },
    {
     "ename": "NameError",
     "evalue": "name 'A' is not defined",
     "output_type": "error",
     "traceback": [
      "\u001b[1;31m---------------------------------------------------------------------------\u001b[0m",
      "\u001b[1;31mNameError\u001b[0m                                 Traceback (most recent call last)",
      "Cell \u001b[1;32mIn[22], line 11\u001b[0m\n\u001b[0;32m      8\u001b[0m                 count \u001b[38;5;241m=\u001b[39m count\u001b[38;5;241m+\u001b[39m\u001b[38;5;241m1\u001b[39m\n\u001b[0;32m      9\u001b[0m     \u001b[38;5;28mprint\u001b[39m(\u001b[38;5;124mf\u001b[39m\u001b[38;5;124m'\u001b[39m\u001b[38;5;124mThere are \u001b[39m\u001b[38;5;132;01m{\u001b[39;00mcount\u001b[38;5;132;01m}\u001b[39;00m\u001b[38;5;124m occurences of \u001b[39m\u001b[38;5;132;01m{\u001b[39;00min_num\u001b[38;5;132;01m}\u001b[39;00m\u001b[38;5;124m in \u001b[39m\u001b[38;5;132;01m{\u001b[39;00min_list\u001b[38;5;132;01m}\u001b[39;00m\u001b[38;5;124m'\u001b[39m)\n\u001b[1;32m---> 11\u001b[0m \u001b[43mcheckOccurence\u001b[49m\u001b[43m(\u001b[49m\u001b[43m)\u001b[49m\n\u001b[0;32m     15\u001b[0m \u001b[38;5;28;01mdef\u001b[39;00m \u001b[38;5;21moccurance\u001b[39m(l, n):\n\u001b[0;32m     16\u001b[0m     \u001b[38;5;124;03m'''\u001b[39;00m\n\u001b[0;32m     17\u001b[0m \u001b[38;5;124;03m    This function will return the occurance of an element in list using count()\u001b[39;00m\n\u001b[0;32m     18\u001b[0m \u001b[38;5;124;03m    '''\u001b[39;00m\n",
      "Cell \u001b[1;32mIn[22], line 3\u001b[0m, in \u001b[0;36mcheckOccurence\u001b[1;34m()\u001b[0m\n\u001b[0;32m      1\u001b[0m \u001b[38;5;28;01mdef\u001b[39;00m \u001b[38;5;21mcheckOccurence\u001b[39m():\n\u001b[0;32m      2\u001b[0m     in_list \u001b[38;5;241m=\u001b[39m \u001b[38;5;28meval\u001b[39m(\u001b[38;5;28minput\u001b[39m(\u001b[38;5;124m'\u001b[39m\u001b[38;5;124mEnter the elements of the list: \u001b[39m\u001b[38;5;124m'\u001b[39m))\n\u001b[1;32m----> 3\u001b[0m     in_num \u001b[38;5;241m=\u001b[39m \u001b[38;5;28;43meval\u001b[39;49m\u001b[43m(\u001b[49m\u001b[38;5;28;43minput\u001b[39;49m\u001b[43m(\u001b[49m\u001b[38;5;124;43m'\u001b[39;49m\u001b[38;5;124;43mEnter the element to find: \u001b[39;49m\u001b[38;5;124;43m'\u001b[39;49m\u001b[43m)\u001b[49m\u001b[43m)\u001b[49m\n\u001b[0;32m      4\u001b[0m     count \u001b[38;5;241m=\u001b[39m \u001b[38;5;241m0\u001b[39m\n\u001b[0;32m      5\u001b[0m     \u001b[38;5;28;01mif\u001b[39;00m in_num \u001b[38;5;129;01min\u001b[39;00m in_list:\n",
      "File \u001b[1;32m<string>:1\u001b[0m\n",
      "\u001b[1;31mNameError\u001b[0m: name 'A' is not defined"
     ]
    }
   ],
   "source": [
    "def checkOccurence():\n",
    "    in_list = eval(input('Enter the elements of the list: '))\n",
    "    in_num = eval(input('Enter the element to find: '))\n",
    "    count = 0\n",
    "    if in_num in in_list:\n",
    "        for ele in in_list:\n",
    "            if ele == in_num:\n",
    "                count = count+1\n",
    "    print(f'There are {count} occurences of {in_num} in {in_list}')\n",
    "    \n",
    "checkOccurence()\n",
    "\n",
    "\n",
    "\n",
    "def occurance(l, n):\n",
    "    '''\n",
    "    This function will return the occurance of an element in list using count()\n",
    "    '''\n",
    "            \n",
    "    return l.count(n)\n",
    "\n",
    "\n",
    "l= ['S','A','A','I','S','I','S','A']\n",
    "n = 'A'\n",
    "print(\"Occurance List:  \",occurance(l, n))"
   ]
  },
  {
   "cell_type": "code",
   "execution_count": null,
   "id": "d60af85f",
   "metadata": {},
   "outputs": [],
   "source": []
  }
 ],
 "metadata": {
  "kernelspec": {
   "display_name": "Python 3 (ipykernel)",
   "language": "python",
   "name": "python3"
  },
  "language_info": {
   "codemirror_mode": {
    "name": "ipython",
    "version": 3
   },
   "file_extension": ".py",
   "mimetype": "text/x-python",
   "name": "python",
   "nbconvert_exporter": "python",
   "pygments_lexer": "ipython3",
   "version": "3.10.9"
  }
 },
 "nbformat": 4,
 "nbformat_minor": 5
}
