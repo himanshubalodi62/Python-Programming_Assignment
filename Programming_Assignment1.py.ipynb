{
 "cells": [
  {
   "cell_type": "markdown",
   "id": "d9ab19c0",
   "metadata": {},
   "source": [
    "# Programming Assignment Python solve......"
   ]
  },
  {
   "cell_type": "markdown",
   "id": "9e484a92",
   "metadata": {},
   "source": [
    "# "
   ]
  },
  {
   "cell_type": "markdown",
   "id": "8909ca91",
   "metadata": {},
   "source": [
    "# 1. Write a Python program to print &quot;Hello Python&quot;?"
   ]
  },
  {
   "cell_type": "code",
   "execution_count": 1,
   "id": "8168df55",
   "metadata": {},
   "outputs": [
    {
     "name": "stdout",
     "output_type": "stream",
     "text": [
      "Hello Python\n"
     ]
    }
   ],
   "source": [
    "a = \"Hello Python\"\n",
    "print(a)"
   ]
  },
  {
   "cell_type": "markdown",
   "id": "474b7b08",
   "metadata": {},
   "source": [
    "# 2. Write a Python program to do arithmetical operations addition and division.?"
   ]
  },
  {
   "cell_type": "code",
   "execution_count": 2,
   "id": "f1601a20",
   "metadata": {},
   "outputs": [
    {
     "name": "stdout",
     "output_type": "stream",
     "text": [
      " Select the arithemetic operation:      \u0001.Addition (+)      \u0002.Subtraction (-)      \u0003. Multiplication(*)      \u0004. Division(/)      \u0005. Stop(0)\n",
      "\n",
      "Enter the arithematic operation => +\n",
      "Enter the 1st Number22\n",
      "Enter the 2nd number45\n",
      "22+22=67\n",
      "\n",
      "Enter the arithematic operation => -\n",
      "Enter the 1st Number66\n",
      "Enter the 2nd number54\n",
      "66-66=12\n",
      "\n",
      "Enter the arithematic operation => *\n",
      "Enter the 1st Number343\n",
      "Enter the 2nd number454\n",
      "343*343=155722\n",
      "\n",
      "Enter the arithematic operation => /\n",
      "Enter the 1st Number565\n",
      "Enter the 2nd number55\n",
      "565/565=10.272727272727273\n",
      "\n",
      "Enter the arithematic operation => 0\n",
      "program stopped succesfully\n"
     ]
    }
   ],
   "source": [
    "import operator\n",
    "\n",
    "ops = {\"+\" : operator.add , \"-\" : operator.sub , \"*\" : operator.mul , \"/\" : operator.truediv}\n",
    "\n",
    "print(\" Select the arithemetic operation:\\\n",
    "      \\1.Addition (+)\\\n",
    "      \\2.Subtraction (-)\\\n",
    "      \\3. Multiplication(*)\\\n",
    "      \\4. Division(/)\\\n",
    "      \\5. Stop(0)\\n\")\n",
    "\n",
    "while True :\n",
    "    operator = input(\"Enter the arithematic operation => \")\n",
    "    \n",
    "    if operator == '0':\n",
    "        print(\"program stopped succesfully\")\n",
    "        break\n",
    "    elif operator not in['+','-','*','/','0']:\n",
    "        print(\"Enter the valid number\")\n",
    "    else:\n",
    "        a = int(input( \"Enter the 1st Number\"))\n",
    "        b = int(input(\"Enter the 2nd number\"))\n",
    "        print('{}{}{}={}\\n'.format(a, operator, a, ops[operator](a,b)))\n",
    "        \n",
    "    "
   ]
  },
  {
   "cell_type": "markdown",
   "id": "8a54450b",
   "metadata": {},
   "source": [
    "# 3. Write a Python program to find the area of a triangle?"
   ]
  },
  {
   "cell_type": "code",
   "execution_count": 15,
   "id": "44331c0f",
   "metadata": {},
   "outputs": [
    {
     "name": "stdout",
     "output_type": "stream",
     "text": [
      "Enter the hieght of triangle: 100\n",
      "Enter the base of triangle: 50\n",
      "Area of triangele =>  2500.0\n"
     ]
    }
   ],
   "source": [
    "h = int(input(\"Enter the hieght of triangle: \"))\n",
    "b = int(input(\"Enter the base of triangle: \"))\n",
    "\n",
    "def AreaOfTriangle(hieght,base):\n",
    "    print(\"Area of triangle => \", 0.5*h*b)\n",
    "    \n",
    "AreaOfTriangle(h,b)"
   ]
  },
  {
   "cell_type": "markdown",
   "id": "c2b14af7",
   "metadata": {},
   "source": [
    "# 4. Write a Python program to swap two variables?"
   ]
  },
  {
   "cell_type": "code",
   "execution_count": 1,
   "id": "520b60ce",
   "metadata": {},
   "outputs": [
    {
     "name": "stdout",
     "output_type": "stream",
     "text": [
      "value of a: 200\n",
      "value of b: 100\n"
     ]
    }
   ],
   "source": [
    "a = 100\n",
    "b = 200\n",
    "a , b = b,a\n",
    "print('value of a:',a)\n",
    "print('value of b:',b)"
   ]
  },
  {
   "cell_type": "markdown",
   "id": "c56cd72b",
   "metadata": {},
   "source": [
    "# 5. Write a Python program to generate a random number?"
   ]
  },
  {
   "cell_type": "code",
   "execution_count": 2,
   "id": "2a8fbc62",
   "metadata": {},
   "outputs": [
    {
     "name": "stdout",
     "output_type": "stream",
     "text": [
      "75\n"
     ]
    }
   ],
   "source": [
    "import random \n",
    "n = random.randint(0,100)\n",
    "print(n)"
   ]
  },
  {
   "cell_type": "code",
   "execution_count": null,
   "id": "3f17aceb",
   "metadata": {},
   "outputs": [],
   "source": []
  }
 ],
 "metadata": {
  "kernelspec": {
   "display_name": "Python 3 (ipykernel)",
   "language": "python",
   "name": "python3"
  },
  "language_info": {
   "codemirror_mode": {
    "name": "ipython",
    "version": 3
   },
   "file_extension": ".py",
   "mimetype": "text/x-python",
   "name": "python",
   "nbconvert_exporter": "python",
   "pygments_lexer": "ipython3",
   "version": "3.9.12"
  }
 },
 "nbformat": 4,
 "nbformat_minor": 5
}
