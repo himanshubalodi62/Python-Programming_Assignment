{
 "cells": [
  {
   "cell_type": "markdown",
   "id": "86aee510",
   "metadata": {},
   "source": [
    "# Programming Assignment 14 Solutions\n",
    "\n",
    "\n",
    "\n",
    "#### 1.Define a class with a generator which can iterate the numbers, which are divisible by 7, between a given range 0 and n. ?"
   ]
  },
  {
   "cell_type": "code",
   "execution_count": 1,
   "id": "d59bb959",
   "metadata": {},
   "outputs": [
    {
     "name": "stdout",
     "output_type": "stream",
     "text": [
      "0\n",
      "7\n",
      "14\n",
      "21\n",
      "28\n",
      "35\n",
      "42\n",
      "49\n",
      "56\n",
      "63\n",
      "70\n",
      "77\n",
      "84\n",
      "91\n",
      "98\n"
     ]
    }
   ],
   "source": [
    "def num_generator(n):\n",
    "    i = 0\n",
    "    while i<n:\n",
    "        j = i\n",
    "        i = i+1\n",
    "        if j % 7 == 0:\n",
    "            yield j\n",
    "for i in num_generator(100):\n",
    "    print(i)"
   ]
  },
  {
   "cell_type": "markdown",
   "id": "f2c36a3f",
   "metadata": {},
   "source": [
    "### 2.Write a program to compute the frequency of the words from the input. The output should output after sorting the key alphanumerically.\n",
    "\n",
    "Suppose the following input is supplied to the program:\n",
    "\n",
    "**New to Python or choosing between Python 2 and Python 3? Read Python 2 or Python 3.**\n",
    "\n",
    "Then, the output should be:\n",
    "**2:2 3.:1 3?:1 New:1 Python:5 Read:1 and:1 between:1 choosing:1 or:2 to:1**"
   ]
  },
  {
   "cell_type": "code",
   "execution_count": 2,
   "id": "1288e1a2",
   "metadata": {},
   "outputs": [
    {
     "name": "stdout",
     "output_type": "stream",
     "text": [
      "Enter a string: New to Python or choosing between Python 2 and Python 3? Read Python 2 or Python 3\n",
      "2:2 3:1 3?:1 New:1 Python:5 Read:1 and:1 between:1 choosing:1 or:2 to:1 "
     ]
    }
   ],
   "source": [
    "input_string = input(\"Enter a string: \")\n",
    "\n",
    "words = input_string.split()\n",
    "\n",
    "word_count = {}\n",
    "\n",
    "for word in words:\n",
    "    if word in word_count:\n",
    "        word_count[word] += 1\n",
    "    else:\n",
    "        word_count[word] = 1\n",
    "\n",
    "sorted_keys = sorted(word_count.keys())\n",
    "\n",
    "for key in sorted_keys:\n",
    "    print(\"{}:{}\".format(key, word_count[key]), end=\" \")\n"
   ]
  },
  {
   "cell_type": "markdown",
   "id": "8b7a1eef",
   "metadata": {},
   "source": [
    "#### 3.Define a class Person and its two child classes: Male and Female. All classes have a method \"getGender\" which can print \"Male\" for Male class and \"Female\" for Female class. ?"
   ]
  },
  {
   "cell_type": "code",
   "execution_count": 4,
   "id": "df53079d",
   "metadata": {},
   "outputs": [
    {
     "name": "stdout",
     "output_type": "stream",
     "text": [
      "male\n",
      "female\n"
     ]
    }
   ],
   "source": [
    "class person():\n",
    "    def getGender():\n",
    "        pass\n",
    "    \n",
    "class Male(person):\n",
    "    def getGender():\n",
    "        print(\"male\")\n",
    "    \n",
    "class Female(person):\n",
    "    def getGender():\n",
    "        print(\"female\")\n",
    "        \n",
    "Male.getGender()\n",
    "Female.getGender()\n",
    "    "
   ]
  },
  {
   "cell_type": "markdown",
   "id": "c0c275c0",
   "metadata": {},
   "source": [
    "#### 4.Please write a program to generate all sentences where subject is in [\"I\", \"You\"] and verb is in [\"Play\", \"Love\"] and the object is in [\"Hockey\",\"Football\"] ?"
   ]
  },
  {
   "cell_type": "code",
   "execution_count": 6,
   "id": "e0e8afd9",
   "metadata": {},
   "outputs": [
    {
     "name": "stdout",
     "output_type": "stream",
     "text": [
      "I Play Hockey.\n",
      "I Play Football.\n",
      "I Love Hockey.\n",
      "I Love Football.\n",
      "You Play Hockey.\n",
      "You Play Football.\n",
      "You Love Hockey.\n",
      "You Love Football.\n"
     ]
    }
   ],
   "source": [
    "def generate():\n",
    "    subject = [\"I\", \"You\"]\n",
    "    verb = [\"Play\", \"Love\"]\n",
    "    object = [\"Hockey\",\"Football\"]\n",
    "    for i in range(len(subject)):\n",
    "        for j in range(len(subject)):\n",
    "            for k in range(len(object)):\n",
    "                sentense = \"%s %s %s.\"%(subject[i], verb[j], object[k])\n",
    "                print(sentense)\n",
    "\n",
    "generate()"
   ]
  },
  {
   "cell_type": "markdown",
   "id": "43a045b8",
   "metadata": {},
   "source": [
    "#### 5.Please write a program to compress and decompress the string \"hello world!hello world!hello world!hello world!\" ?"
   ]
  },
  {
   "cell_type": "code",
   "execution_count": 7,
   "id": "d0a9badd",
   "metadata": {},
   "outputs": [
    {
     "name": "stdout",
     "output_type": "stream",
     "text": [
      "Enter the dtring: hello world!hello world!hello world!hello world!\n",
      "b'x\\x9c\\xcbH\\xcd\\xc9\\xc9W(\\xcf/\\xcaIQ\\xcc \\x82\\r\\x00\\xbd[\\x11\\xf5'\n"
     ]
    },
    {
     "data": {
      "text/plain": [
       "b'hello world!hello world!hello world!hello world!'"
      ]
     },
     "execution_count": 7,
     "metadata": {},
     "output_type": "execute_result"
    }
   ],
   "source": [
    "import zlib\n",
    "\n",
    "s = input('Enter the dtring: ')\n",
    "\n",
    "def compose_decompose(s):\n",
    "    y = bytes(s, 'utf-8')\n",
    "    x = zlib.compress(y)\n",
    "    print(x)\n",
    "    return (zlib.decompress(x))\n",
    "\n",
    "compose_decompose(s)"
   ]
  },
  {
   "cell_type": "markdown",
   "id": "1d917faf",
   "metadata": {},
   "source": [
    "### 6.Please write a binary search function which searches an item in a sorted list. The function should return the index of element to be searched in the list ?"
   ]
  },
  {
   "cell_type": "code",
   "execution_count": 8,
   "id": "8a5dcca2",
   "metadata": {},
   "outputs": [
    {
     "name": "stdout",
     "output_type": "stream",
     "text": [
      "7\n",
      "Input Element not in the list\n"
     ]
    }
   ],
   "source": [
    "sorted_list = [1,2,3,4,5,6,7,8,9,10]\n",
    "def binary_search(in_list,in_num):\n",
    "    low = 0\n",
    "    high = len(in_list)-1\n",
    "    while low <= high:\n",
    "        mid = high+low//2\n",
    "        if in_list[mid] < in_num:\n",
    "            low = mid+1\n",
    "        elif in_list[mid] > in_num:\n",
    "            high = mid-1\n",
    "        else:\n",
    "            return mid\n",
    "    else:\n",
    "        return 'Input Element not in the list'\n",
    "    \n",
    "print(binary_search(sorted_list,8))\n",
    "print(binary_search(sorted_list,100))"
   ]
  },
  {
   "cell_type": "code",
   "execution_count": null,
   "id": "e0c86a34",
   "metadata": {},
   "outputs": [],
   "source": []
  }
 ],
 "metadata": {
  "kernelspec": {
   "display_name": "Python 3 (ipykernel)",
   "language": "python",
   "name": "python3"
  },
  "language_info": {
   "codemirror_mode": {
    "name": "ipython",
    "version": 3
   },
   "file_extension": ".py",
   "mimetype": "text/x-python",
   "name": "python",
   "nbconvert_exporter": "python",
   "pygments_lexer": "ipython3",
   "version": "3.10.9"
  }
 },
 "nbformat": 4,
 "nbformat_minor": 5
}
