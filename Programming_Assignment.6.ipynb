{
 "cells": [
  {
   "cell_type": "markdown",
   "id": "7dc7cff7",
   "metadata": {},
   "source": [
    "# 1. Write a Python Program to Display Fibonacci Sequence Using Recursion?"
   ]
  },
  {
   "cell_type": "code",
   "execution_count": 7,
   "id": "8840b046",
   "metadata": {},
   "outputs": [
    {
     "name": "stdout",
     "output_type": "stream",
     "text": [
      "Enter the lenght of series:20\n",
      "0,1,1,2,3,5,8,13,21,34,55,89,144,233,377,610,987,1597,2584,4181,6765,10946,"
     ]
    }
   ],
   "source": [
    "def rec_febonacci(n,a,b):\n",
    "    if n == 0:\n",
    "        return 1\n",
    "    else:\n",
    "        result = (a+b)\n",
    "        print(result ,end = ',')\n",
    "        rec_febonacci(n-1,b,result)\n",
    "        \n",
    "in_num = int(input(\"Enter the lenght of series:\"))\n",
    "print('0,1',end =',')\n",
    "rec_febonacci(in_num ,0,1)\n",
    "        \n",
    "        \n",
    "        "
   ]
  },
  {
   "cell_type": "markdown",
   "id": "8b17192e",
   "metadata": {},
   "source": [
    "# 2. Write a Python Program to Find Factorial of Number Using Recursion?"
   ]
  },
  {
   "cell_type": "code",
   "execution_count": 13,
   "id": "0977322e",
   "metadata": {},
   "outputs": [
    {
     "name": "stdout",
     "output_type": "stream",
     "text": [
      "Enter the number:5\n",
      "120\n"
     ]
    }
   ],
   "source": [
    "def fact(n): \n",
    "    if n == 0: \n",
    "        return 1 \n",
    "    else: \n",
    "        return (n*fact(n-1))\n",
    "num = int(input(\"Enter the number:\"))\n",
    "if num<0: \n",
    "    print(\"print positive number\")\n",
    "else: \n",
    "    print(fact(num))"
   ]
  },
  {
   "cell_type": "markdown",
   "id": "2a4cbb56",
   "metadata": {},
   "source": [
    "# 3. Write a Python Program to calculate your Body Mass Index?"
   ]
  },
  {
   "cell_type": "code",
   "execution_count": 16,
   "id": "84ded4cf",
   "metadata": {},
   "outputs": [
    {
     "name": "stdout",
     "output_type": "stream",
     "text": [
      "Enter the weight(kgs):70\n",
      "Enter the height(mts):1.8\n",
      "your Bmi is 21.604938271604937 and status is Healthy\n"
     ]
    }
   ],
   "source": [
    "def cal_BodyMass():\n",
    "    weight = float(input(\"Enter the weight(kgs):\"))\n",
    "    height = float(input(\"Enter the height(mts):\"))\n",
    "    cal_bmi = weight/pow(height,2)\n",
    "    if (cal_bmi < 18.5):\n",
    "        status = 'Underweight'\n",
    "    elif (cal_bmi >= 17.5 and cal_bmi < 24.5):\n",
    "        status = 'Healthy'\n",
    "    print(f\"your Bmi is {cal_bmi} and status is {status}\")\n",
    "\n",
    "cal_BodyMass()"
   ]
  },
  {
   "cell_type": "markdown",
   "id": "d1bf9322",
   "metadata": {},
   "source": [
    "# 4. Write a Python Program to calculate the natural logarithm of any number?"
   ]
  },
  {
   "cell_type": "code",
   "execution_count": 17,
   "id": "66d1ce6a",
   "metadata": {},
   "outputs": [
    {
     "name": "stdout",
     "output_type": "stream",
     "text": [
      "Enter the number:32\n",
      "3.4657359027997265\n"
     ]
    }
   ],
   "source": [
    "import math \n",
    "def genNatural_logarithm():\n",
    "    num = float(input(\"Enter the number:\"))\n",
    "    print(math.log(num))\n",
    "genNatural_logarithm()    "
   ]
  },
  {
   "cell_type": "markdown",
   "id": "2eae04d4",
   "metadata": {},
   "source": [
    "# 5. Write a Python Program for cube sum of first n natural numbers?"
   ]
  },
  {
   "cell_type": "code",
   "execution_count": 22,
   "id": "fc488183",
   "metadata": {},
   "outputs": [
    {
     "name": "stdout",
     "output_type": "stream",
     "text": [
      "Enter the no of natural number:5\n",
      "The Cube Sum of First 5.0 Natural Numbers is 225.0\n"
     ]
    }
   ],
   "source": [
    "def cubeofnaturalnumbers():\n",
    "    num = float(input(\"Enter the no of natural number:\"))\n",
    "    result = pow(((num * (num +1))/2),2)\n",
    "    print(f'The Cube Sum of First {num} Natural Numbers is {result}')\n",
    "cubeofnaturalnumbers()"
   ]
  },
  {
   "cell_type": "code",
   "execution_count": null,
   "id": "94930467",
   "metadata": {},
   "outputs": [],
   "source": []
  }
 ],
 "metadata": {
  "kernelspec": {
   "display_name": "Python 3 (ipykernel)",
   "language": "python",
   "name": "python3"
  },
  "language_info": {
   "codemirror_mode": {
    "name": "ipython",
    "version": 3
   },
   "file_extension": ".py",
   "mimetype": "text/x-python",
   "name": "python",
   "nbconvert_exporter": "python",
   "pygments_lexer": "ipython3",
   "version": "3.9.12"
  }
 },
 "nbformat": 4,
 "nbformat_minor": 5
}
