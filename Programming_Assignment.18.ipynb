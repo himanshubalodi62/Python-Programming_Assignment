{
 "cells": [
  {
   "cell_type": "markdown",
   "id": "2b67b7e1",
   "metadata": {},
   "source": [
    "#### 1.Create a function that takes a list of non-negative integers and strings and return a new list without the strings ?\n",
    "\n",
    "Examples:\n",
    "\n",
    "filter_list([1, 2, \"a\", \"b\"]) ➞ [1, 2]\n",
    "\n",
    "filter_list([1, \"a\", \"b\", 0, 15]) ➞ [1, 0, 15]\n",
    "\n",
    "filter_list([1, 2, \"aasf\", \"1\", \"123\", 123]) ➞ [1, 2, 123]"
   ]
  },
  {
   "cell_type": "code",
   "execution_count": 4,
   "id": "af8bec7c",
   "metadata": {},
   "outputs": [
    {
     "name": "stdout",
     "output_type": "stream",
     "text": [
      "[1, 2]\n",
      "[1, 0, 15]\n",
      "[1, 2, 123]\n"
     ]
    }
   ],
   "source": [
    "def filter_list(l):\n",
    "    output_list = []\n",
    "    for i in l:\n",
    "        if type(i) == int:\n",
    "            output_list.append(i)\n",
    "            \n",
    "    return output_list\n",
    "\n",
    "print(filter_list([1, 2, \"a\", \"b\"]))\n",
    "print(filter_list([1, \"a\", \"b\", 0, 15]))\n",
    "print(filter_list([1, 2, \"aasf\", \"1\", \"123\", 123]))"
   ]
  },
  {
   "cell_type": "markdown",
   "id": "03c4a8f4",
   "metadata": {},
   "source": [
    "#### 2. . The \"Reverser\" takes a string as input and returns that string in reverse order, with the opposite case ?\n",
    "\n",
    "Examples:\n",
    "\n",
    "reverse(\"Hello World\") ➞ \"DLROw OLLEh\"\n",
    "\n",
    "reverse(\"ReVeRsE\") ➞ \"eSrEvEr\"\n",
    "\n",
    "reverse(\"Radar\") ➞ \"RADAr\""
   ]
  },
  {
   "cell_type": "code",
   "execution_count": 5,
   "id": "86be9aa2",
   "metadata": {},
   "outputs": [
    {
     "name": "stdout",
     "output_type": "stream",
     "text": [
      "hELLO wORLD\n",
      "rEvErSe\n",
      "radaR\n"
     ]
    }
   ],
   "source": [
    "def reverse(s):\n",
    "    s = s[::1]\n",
    "    return s.swapcase()\n",
    "print(reverse(\"Hello World\"))\n",
    "print(reverse(\"ReVeRsE\"))\n",
    "print(reverse(\"RADAr\"))\n",
    "    "
   ]
  },
  {
   "cell_type": "code",
   "execution_count": 6,
   "id": "58a6f1ba",
   "metadata": {},
   "outputs": [
    {
     "name": "stdout",
     "output_type": "stream",
     "text": [
      "Hello World -> DLROw OLLEh\n",
      "ReVeRsE -> eSrEvEr\n",
      "RADAr -> Radar\n"
     ]
    }
   ],
   "source": [
    "def reverse(str):\n",
    "    print(f'{str} -> {str[::-1].swapcase()}')\n",
    "    \n",
    "reverse('Hello World')\n",
    "reverse('ReVeRsE')\n",
    "reverse('RADAr')"
   ]
  },
  {
   "cell_type": "markdown",
   "id": "d7b327c8",
   "metadata": {},
   "source": [
    "#### 3.You can assign variables from lists like this:\n",
    "\n",
    "lst = [1, 2, 3, 4, 5, 6] first = lst[0] middle = lst[1:-1] last = lst[-1] print(first) ➞ outputs 1 print(middle) ➞ outputs [2, 3, 4, 5] print(last) ➞ outputs 6\n",
    "\n",
    "With Python 3, you can assign variables from lists in a much more succinct way. Create variables first, middle and last from the given list using destructuring assignment\n",
    "\n",
    "(check the Resources tab for some examples), where:\n",
    "\n",
    "first ➞ 1 middle ➞ [2, 3, 4, 5] last ➞ 6\n",
    "\n",
    "\n",
    "Your task is to unpack the list writeyourcodehere into three variables, being first, middle, and last, with middle being \n",
    "\n",
    "everything in between the first and last element. Then print all three variables."
   ]
  },
  {
   "cell_type": "code",
   "execution_count": 11,
   "id": "6d1c42b8",
   "metadata": {},
   "outputs": [
    {
     "name": "stdout",
     "output_type": "stream",
     "text": [
      "1\n",
      "[2, 3, 4, 5]\n",
      "6\n"
     ]
    }
   ],
   "source": [
    "def list_position(x):\n",
    "    lst = [1, 2, 3, 4, 5, 6]\n",
    "    first = lst[0]\n",
    "    middle = lst[1:-1]\n",
    "    last = lst[-1]\n",
    "    x = x.lower()\n",
    "    if x == 'first':\n",
    "        return first\n",
    "    elif x == 'middle':\n",
    "        return middle\n",
    "    elif x == 'last':\n",
    "        return last\n",
    "    else:\n",
    "        return \"Please enter a valid input\"\n",
    "    \n",
    "print(list_position('First'))\n",
    "print(list_position('MIDDLE'))\n",
    "print(list_position('last'))"
   ]
  },
  {
   "cell_type": "code",
   "execution_count": 12,
   "id": "c7b3a66d",
   "metadata": {},
   "outputs": [
    {
     "name": "stdout",
     "output_type": "stream",
     "text": [
      "first ➞ 1\n",
      "middle ➞ [2, 3, 4, 5]\n",
      "last ➞ 6\n"
     ]
    }
   ],
   "source": [
    "first, *middle, last = [1,2,3,4,5,6]\n",
    "print(f'first ➞ {first}')\n",
    "print(f'middle ➞ {middle}')\n",
    "print(f'last ➞ {last}')"
   ]
  },
  {
   "cell_type": "markdown",
   "id": "1aa7fb58",
   "metadata": {},
   "source": [
    "#### 4.Write a function that calculates the factorial of a number recursively.\n",
    "\n",
    "Examples:\n",
    "\n",
    "factorial(5) ➞ 120\n",
    "\n",
    "factorial(3) ➞ 6\n",
    "\n",
    "factorial(1) ➞ 1\n",
    "\n",
    "factorial(0) ➞ 1"
   ]
  },
  {
   "cell_type": "code",
   "execution_count": 13,
   "id": "e5c5e9f2",
   "metadata": {},
   "outputs": [
    {
     "name": "stdout",
     "output_type": "stream",
     "text": [
      "120\n",
      "6\n",
      "1\n",
      "1\n"
     ]
    }
   ],
   "source": [
    "def factorial(x):\n",
    "    if x >= 0 :\n",
    "        if x == 0 or x == 1:\n",
    "            return 1\n",
    "        else:\n",
    "            return x*factorial(x-1)\n",
    "    else:\n",
    "        return \"Plese enter a positive number\"\n",
    "print(factorial(5))\n",
    "print(factorial(3))\n",
    "print(factorial(1))\n",
    "print(factorial(0))"
   ]
  },
  {
   "cell_type": "code",
   "execution_count": 15,
   "id": "b30c14c8",
   "metadata": {},
   "outputs": [
    {
     "name": "stdout",
     "output_type": "stream",
     "text": [
      "factorial(5) -> 120\n",
      "factorial(3) -> 6\n",
      "factorial(1) -> 1\n",
      "factorial(1) -> 1\n"
     ]
    }
   ],
   "source": [
    "def factorial(n):\n",
    "    if n == 0:\n",
    "        return 1\n",
    "    return n * factorial(n-1)\n",
    "\n",
    "print(f'factorial(5) -> {factorial(5)}')\n",
    "print(f'factorial(3) -> {factorial(3)}')\n",
    "print(f'factorial(1) -> {factorial(1)}')\n",
    "print(f'factorial(1) -> {factorial(1)}')"
   ]
  },
  {
   "cell_type": "markdown",
   "id": "9f3d5889",
   "metadata": {},
   "source": [
    "#### 5.Write a function that moves all elements of one type to the end of the list.\n",
    "\n",
    "Examples:\n",
    "\n",
    "move_to_end([1, 3, 2, 4, 4, 1], 1) ➞ [3, 2, 4, 4, 1, 1]\n",
    "\n",
    "#Move all the 1s to the end of the array.\n",
    "\n",
    "move_to_end([7, 8, 9, 1, 2, 3, 4], 9) ➞ [7, 8, 1, 2, 3, 4, 9]\n",
    "\n",
    "move_to_end([\"a\", \"a\", \"a\", \"b\"], \"a\") ➞ [\"b\", \"a\", \"a\", \"a\"]"
   ]
  },
  {
   "cell_type": "code",
   "execution_count": 16,
   "id": "3da85924",
   "metadata": {},
   "outputs": [
    {
     "name": "stdout",
     "output_type": "stream",
     "text": [
      "[7, 8, 4, 1, 2, 3, 9]\n",
      "['b', 'a', 'a', 'a']\n"
     ]
    }
   ],
   "source": [
    "def move_to_end(array, toMove):\n",
    "     \n",
    "    i = 0\n",
    " \n",
    "    # Mark the right pointer\n",
    "    j = len(array) - 1\n",
    "  \n",
    "    # Iterate untill left pointer\n",
    "    # crosses the right pointer\n",
    "    while (i < j):\n",
    "  \n",
    "        while (i < j and array[j] == toMove):\n",
    "  \n",
    "            # decrement right pointer\n",
    "            j-=1\n",
    "  \n",
    "        if (array[i] == toMove):\n",
    "  \n",
    "            # swap the two elements\n",
    "            # in the array\n",
    "            array[i], array[j] = array[j] , array[i]\n",
    "  \n",
    "        # increment left pointer\n",
    "        i += 1\n",
    "  \n",
    "    # return the result\n",
    "    return array\n",
    "\n",
    "print(move_to_end([7, 8, 9, 1, 2, 3, 4], 9))\n",
    "print(move_to_end([\"a\", \"a\", \"a\", \"b\"], \"a\") )"
   ]
  },
  {
   "cell_type": "code",
   "execution_count": null,
   "id": "72424bc8",
   "metadata": {},
   "outputs": [],
   "source": []
  }
 ],
 "metadata": {
  "kernelspec": {
   "display_name": "Python 3 (ipykernel)",
   "language": "python",
   "name": "python3"
  },
  "language_info": {
   "codemirror_mode": {
    "name": "ipython",
    "version": 3
   },
   "file_extension": ".py",
   "mimetype": "text/x-python",
   "name": "python",
   "nbconvert_exporter": "python",
   "pygments_lexer": "ipython3",
   "version": "3.10.9"
  }
 },
 "nbformat": 4,
 "nbformat_minor": 5
}
