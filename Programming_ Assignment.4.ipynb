{
 "cells": [
  {
   "cell_type": "markdown",
   "id": "0a1756ff",
   "metadata": {},
   "source": [
    "# 1. Write a Python Program to Find the Factorial of a Number?"
   ]
  },
  {
   "cell_type": "code",
   "execution_count": 1,
   "id": "bdd355bd",
   "metadata": {},
   "outputs": [
    {
     "name": "stdout",
     "output_type": "stream",
     "text": [
      "enter a number:5\n",
      "The factorial of 5 is 120\n"
     ]
    }
   ],
   "source": [
    "def factorial(num):\n",
    "    if (num < 1):\n",
    "        return 1\n",
    "    else :\n",
    "        return num*factorial(num-1)\n",
    "num = int(input(\"enter a number:\"))\n",
    "value = factorial(num)\n",
    "print(f'The factorial of {num} is {value}')"
   ]
  },
  {
   "cell_type": "markdown",
   "id": "d36e33f1",
   "metadata": {},
   "source": [
    "# 2. Write a Python Program to display the multiplication table ?"
   ]
  },
  {
   "cell_type": "code",
   "execution_count": 2,
   "id": "9c5c6d25",
   "metadata": {},
   "outputs": [
    {
     "name": "stdout",
     "output_type": "stream",
     "text": [
      "Enter the number20\n",
      "20 x 1 = 20\n",
      "20 x 2 = 40\n",
      "20 x 3 = 60\n",
      "20 x 4 = 80\n",
      "20 x 5 = 100\n",
      "20 x 6 = 120\n",
      "20 x 7 = 140\n",
      "20 x 8 = 160\n",
      "20 x 9 = 180\n",
      "20 x 10 = 200\n"
     ]
    }
   ],
   "source": [
    "num = int(input(\"Enter the number\"))\n",
    "for i in range(1, 11):\n",
    "   print(num, 'x', i, '=', num*i)"
   ]
  },
  {
   "cell_type": "markdown",
   "id": "6df1a78d",
   "metadata": {},
   "source": [
    "# 3. Write a Python Program to print the fibonacci sequence ?"
   ]
  },
  {
   "cell_type": "code",
   "execution_count": 3,
   "id": "fc8448f2",
   "metadata": {},
   "outputs": [
    {
     "data": {
      "text/plain": [
       "[0,\n",
       " 1,\n",
       " 1,\n",
       " 2,\n",
       " 3,\n",
       " 5,\n",
       " 8,\n",
       " 13,\n",
       " 21,\n",
       " 34,\n",
       " 55,\n",
       " 89,\n",
       " 144,\n",
       " 233,\n",
       " 377,\n",
       " 610,\n",
       " 987,\n",
       " 1597,\n",
       " 2584,\n",
       " 4181]"
      ]
     },
     "execution_count": 3,
     "metadata": {},
     "output_type": "execute_result"
    }
   ],
   "source": [
    "def febunacci_num(n):\n",
    "    a = 0\n",
    "    b = 1\n",
    "    l = []\n",
    "    for i in range(n):\n",
    "        l.append(a)\n",
    "        a,b = b,a+b\n",
    "    return l\n",
    "febunacci_num(20)"
   ]
  },
  {
   "cell_type": "markdown",
   "id": "89d09378",
   "metadata": {},
   "source": [
    "# 4.Write a Python Program to check Armstrong number ?"
   ]
  },
  {
   "cell_type": "code",
   "execution_count": 4,
   "id": "26d70614",
   "metadata": {},
   "outputs": [
    {
     "name": "stdout",
     "output_type": "stream",
     "text": [
      "Enter a number: 4343534\n",
      "4343534 is not an Armstrong number\n",
      "Enter a number: 153\n",
      "153 is an Armstrong number\n"
     ]
    }
   ],
   "source": [
    "def Armstrong():\n",
    "    num = int(input(\"Enter a number: \"))\n",
    "    sum = 0\n",
    "    temp = num\n",
    "    while temp > 0:\n",
    "        digit = temp % 10\n",
    "        sum += digit ** 3\n",
    "        temp //= 10\n",
    "    if num == sum:\n",
    "            print(num,\"is an Armstrong number\")\n",
    "    else:\n",
    "            print(num,\"is not an Armstrong number\")\n",
    "\n",
    "\n",
    "for i in range(2):\n",
    "    Armstrong()"
   ]
  },
  {
   "cell_type": "markdown",
   "id": "5a2d7466",
   "metadata": {},
   "source": [
    "# 5. Write a Python Program to Find Armstrong Number in an Interval?"
   ]
  },
  {
   "cell_type": "code",
   "execution_count": 5,
   "id": "9dd456c2",
   "metadata": {},
   "outputs": [
    {
     "name": "stdout",
     "output_type": "stream",
     "text": [
      "Enter the lower number100\n",
      "Enter the upper number2000\n",
      "153\n",
      "370\n",
      "371\n",
      "407\n"
     ]
    }
   ],
   "source": [
    "def Armstrong_num():\n",
    "    a = int(input(\"Enter the lower number\"))\n",
    "    b = int(input(\"Enter the upper number\"))\n",
    "    \n",
    "    for num in range(a ,b +1):\n",
    "        order = len(str(num))\n",
    "        \n",
    "        sum = 0\n",
    "        temp = num \n",
    "        while temp > 0:\n",
    "            digit = temp % 10\n",
    "            sum += digit ** 3\n",
    "            temp //= 10\n",
    "        if num == sum:\n",
    "            print(num)\n",
    "            \n",
    "Armstrong_num()            \n",
    "        \n",
    "\n",
    "\n"
   ]
  },
  {
   "cell_type": "markdown",
   "id": "9390d9a9",
   "metadata": {},
   "source": [
    "# 6. Write a Python Program to Find the Sum of Natural Numbers?"
   ]
  },
  {
   "cell_type": "code",
   "execution_count": 10,
   "id": "c95e8f9a",
   "metadata": {},
   "outputs": [
    {
     "name": "stdout",
     "output_type": "stream",
     "text": [
      "Enter the natural the number100\n",
      "The sum of natural number 5050\n"
     ]
    }
   ],
   "source": [
    "def natural_num():\n",
    "    num = int(input(\"Enter the natural the number\"))\n",
    "    if num < 0:\n",
    "        print(\"Enter the positive number\")\n",
    "    else :\n",
    "        sum = 0 \n",
    "    while num >0:\n",
    "        sum += num\n",
    "        num -= 1\n",
    "        \n",
    "    print(\"The sum of natural number\",sum)\n",
    "    \n",
    "natural_num()"
   ]
  },
  {
   "cell_type": "code",
   "execution_count": null,
   "id": "938eea32",
   "metadata": {},
   "outputs": [],
   "source": []
  }
 ],
 "metadata": {
  "kernelspec": {
   "display_name": "Python 3 (ipykernel)",
   "language": "python",
   "name": "python3"
  },
  "language_info": {
   "codemirror_mode": {
    "name": "ipython",
    "version": 3
   },
   "file_extension": ".py",
   "mimetype": "text/x-python",
   "name": "python",
   "nbconvert_exporter": "python",
   "pygments_lexer": "ipython3",
   "version": "3.9.12"
  }
 },
 "nbformat": 4,
 "nbformat_minor": 5
}
