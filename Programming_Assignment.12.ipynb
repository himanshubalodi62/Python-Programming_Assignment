{
 "cells": [
  {
   "cell_type": "markdown",
   "id": "aa505b73",
   "metadata": {},
   "source": [
    "# Programming_Assignment.12 solution"
   ]
  },
  {
   "cell_type": "markdown",
   "id": "be5a4d61",
   "metadata": {},
   "source": [
    "### 1.Write a Python program to Extract Unique values dictionary values?"
   ]
  },
  {
   "cell_type": "code",
   "execution_count": 1,
   "id": "9dfdc652",
   "metadata": {},
   "outputs": [
    {
     "name": "stdout",
     "output_type": "stream",
     "text": [
      "dict_values(['Devprayag', 'Karnaprayag', 'Nandprayag', 'Rudraprayag', 'Vishnuprayag', 'Gangotri'])\n",
      "Unique values: ['Nandprayag', 'Karnaprayag', 'Rudraprayag', 'Devprayag', 'Gangotri', 'Vishnuprayag']\n"
     ]
    }
   ],
   "source": [
    "in_dict  = {1:'Devprayag' , 2:'Karnaprayag' , 3:'Nandprayag' , 4:'Rudraprayag' , 5:'Vishnuprayag', 6:'Gangotri'}\n",
    "print(in_dict.values())\n",
    "print(f'Unique values: {list(set(in_dict.values()))}')"
   ]
  },
  {
   "cell_type": "markdown",
   "id": "e6620dd7",
   "metadata": {},
   "source": [
    "### 2.Write a Python program to find the sum of all items in a dictionary?"
   ]
  },
  {
   "cell_type": "code",
   "execution_count": 3,
   "id": "495ae346",
   "metadata": {},
   "outputs": [
    {
     "name": "stdout",
     "output_type": "stream",
     "text": [
      "Sum of All items:  300\n",
      "The sum is:  90\n"
     ]
    }
   ],
   "source": [
    "in_dict = {'Apple':10 , 'Mango':20 , 'Banana':30 , 'Guava':40 , 'PineApple':200}\n",
    "print('Sum of All items: ',sum(in_dict.values()))\n",
    "\n",
    "# 2 method\n",
    "dictionary = {'abc':[5,8,7,9,4],\n",
    "             'def':[8,7,2,5,4],\n",
    "             'ghi':[3,4,9,8,7]}\n",
    "\n",
    "def sum(dictionary):\n",
    "    '''\n",
    "    This function will retur the sum of each item in a dict\n",
    "    '''\n",
    "    output = 0\n",
    "    for i,j in dictionary.items():\n",
    "        for k in j:\n",
    "            output+=k\n",
    "    return output\n",
    "    \n",
    "print('The sum is: ',sum(dictionary))"
   ]
  },
  {
   "cell_type": "markdown",
   "id": "eadb6201",
   "metadata": {},
   "source": [
    "### 3.Write a Python program to Merging two Dictionaries?"
   ]
  },
  {
   "cell_type": "code",
   "execution_count": 4,
   "id": "f101b2f4",
   "metadata": {},
   "outputs": [
    {
     "name": "stdout",
     "output_type": "stream",
     "text": [
      "The merged dict is:  {1: 'a', 2: 'c', 4: 'd'}\n"
     ]
    }
   ],
   "source": [
    "dict_1 = {1: 'a', 2: 'b'}\n",
    "dict_2 = {2: 'c', 4: 'd'}\n",
    "\n",
    "def merge_dict1(dict_1, dict_2):\n",
    "    '''\n",
    "    This function returns a merged dict out of given dict using | operator\n",
    "    '''\n",
    "    return (dict_1 | dict_2)\n",
    "\n",
    "print('The merged dict is: ',merge_dict1(dict_1, dict_2))\n",
    "\n"
   ]
  },
  {
   "cell_type": "markdown",
   "id": "a2747c37",
   "metadata": {},
   "source": [
    "### 4.Write a Python program to convert key-values list to flat dictionary?"
   ]
  },
  {
   "cell_type": "code",
   "execution_count": 7,
   "id": "cdf8354f",
   "metadata": {},
   "outputs": [
    {
     "name": "stdout",
     "output_type": "stream",
     "text": [
      "{'A': 10, 'B': 20, 'C': 30, 'D': 40, 'E': 50, 'F': 60}\n"
     ]
    }
   ],
   "source": [
    "in_list = [('A',10) ,('B',20),('C',30),('D',40),('E',50),('F',60)]\n",
    "#method 1\n",
    "dict(in_list)\n",
    "\n",
    "#method 2\n",
    "\n",
    "out_dict = {}\n",
    "for ele in in_list:\n",
    "    out_dict[ele[0]] = ele[1]\n",
    "print(out_dict)"
   ]
  },
  {
   "cell_type": "markdown",
   "id": "5516cfe4",
   "metadata": {},
   "source": [
    "### 5.Write a Python program to insertion at the beginning in OrderedDict?"
   ]
  },
  {
   "cell_type": "code",
   "execution_count": 8,
   "id": "3aad6c1a",
   "metadata": {},
   "outputs": [
    {
     "name": "stdout",
     "output_type": "stream",
     "text": [
      "OrderedDict([('apple', 1), ('banana', 2), ('cherry', 3), ('orange', 4)])\n"
     ]
    }
   ],
   "source": [
    "from collections import OrderedDict\n",
    "\n",
    "ordered_dict = OrderedDict()\n",
    "\n",
    "ordered_dict['apple'] = 1\n",
    "ordered_dict['banana'] = 2\n",
    "ordered_dict['cherry'] = 3\n",
    "\n",
    "ordered_dict.update({'orange': 4})\n",
    "\n",
    "print(ordered_dict)"
   ]
  },
  {
   "cell_type": "code",
   "execution_count": 16,
   "id": "ef2a2667",
   "metadata": {},
   "outputs": [
    {
     "name": "stdout",
     "output_type": "stream",
     "text": [
      "dict_one OrderedDict([('Apple', 'Iphone'), ('Microsoft', 'Windows'), ('Google', 'chrome')])\n",
      "dict_one OrderedDict([('Apple', 'Iphone'), ('Microsoft', 'Windows'), ('Google', 'chrome'), ('Tesla', 'SpaceX')])\n"
     ]
    }
   ],
   "source": [
    "from collections import OrderedDict\n",
    "dict_one = OrderedDict({'Apple':'Iphone','Microsoft':'Windows','Google':'chrome'})\n",
    "print('dict_one',dict_one)\n",
    "dict_two = {'Tesla':'SpaceX'}\n",
    "dict_one.update(dict_two)\n",
    "print('dict_one',dict_one)"
   ]
  },
  {
   "cell_type": "markdown",
   "id": "0384ddd0",
   "metadata": {},
   "source": [
    "### 6.Write a Python program to check order of character in string using OrderedDict()?"
   ]
  },
  {
   "cell_type": "code",
   "execution_count": 17,
   "id": "6ee0e5ea",
   "metadata": {},
   "outputs": [
    {
     "name": "stdout",
     "output_type": "stream",
     "text": [
      "{'a': 1000, 'f': 200, 'd': 300, 'c': 400, 'b': 500, 'e': 600}\n",
      "OrderedDict([('a', 1000), ('b', 500), ('c', 400), ('d', 300), ('e', 600), ('f', 200)])\n"
     ]
    }
   ],
   "source": [
    "from collections import OrderedDict\n",
    "\n",
    "initial_list = {'a': 1000, 'f': 200, 'd': 300, 'c': 400, 'b': 500, 'e': 600}\n",
    "print(initial_list)\n",
    "\n",
    "final_list = OrderedDict(dict(sorted(initial_list.items())))\n",
    "print(final_list)"
   ]
  },
  {
   "cell_type": "markdown",
   "id": "56704c04",
   "metadata": {},
   "source": [
    "### 7.Write a Python program to sort Python Dictionaries by Key or Value?"
   ]
  },
  {
   "cell_type": "code",
   "execution_count": 18,
   "id": "814a0e2a",
   "metadata": {},
   "outputs": [
    {
     "name": "stdout",
     "output_type": "stream",
     "text": [
      "Sorted by key: {'apple': 2, 'banana': 1, 'cherry': 3}\n",
      "Sorted by value: {'banana': 1, 'apple': 2, 'cherry': 3}\n"
     ]
    }
   ],
   "source": [
    "d = {'apple': 2, 'banana': 1, 'cherry': 3}\n",
    "sorted_by_key = dict(sorted(d.items()))\n",
    "sorted_by_value = dict(sorted(d.items(), key=lambda x: x[1]))\n",
    "print(\"Sorted by key:\", sorted_by_key)\n",
    "print(\"Sorted by value:\", sorted_by_value)"
   ]
  },
  {
   "cell_type": "code",
   "execution_count": null,
   "id": "4a281fb0",
   "metadata": {},
   "outputs": [],
   "source": []
  }
 ],
 "metadata": {
  "kernelspec": {
   "display_name": "Python 3 (ipykernel)",
   "language": "python",
   "name": "python3"
  },
  "language_info": {
   "codemirror_mode": {
    "name": "ipython",
    "version": 3
   },
   "file_extension": ".py",
   "mimetype": "text/x-python",
   "name": "python",
   "nbconvert_exporter": "python",
   "pygments_lexer": "ipython3",
   "version": "3.10.9"
  }
 },
 "nbformat": 4,
 "nbformat_minor": 5
}
