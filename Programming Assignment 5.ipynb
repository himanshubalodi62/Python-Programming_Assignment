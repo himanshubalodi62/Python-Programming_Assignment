{
 "cells": [
  {
   "cell_type": "markdown",
   "id": "c321ee6e",
   "metadata": {},
   "source": [
    "# 1. Write a Python Program to Find LCM?"
   ]
  },
  {
   "cell_type": "code",
   "execution_count": 1,
   "id": "d3a82957",
   "metadata": {},
   "outputs": [
    {
     "name": "stdout",
     "output_type": "stream",
     "text": [
      "The lcm of 3,6 is = 6\n",
      "The lcm of 13,8 is = 104\n",
      "The lcm of 12,345 is = 1380\n",
      "The lcm of 7,2 is = 14\n"
     ]
    }
   ],
   "source": [
    "def calculate_lcm(x,y):\n",
    "    if x > y:\n",
    "        greater = x\n",
    "    else:\n",
    "        greater = y\n",
    "    \n",
    "    while True:\n",
    "        if((greater%x == 0) and (greater%y == 0)):\n",
    "            lcm = greater\n",
    "            break\n",
    "        else:\n",
    "            greater += 1\n",
    "    print(f'The lcm of {x},{y} is = {lcm}')\n",
    "    \n",
    "\n",
    "calculate_lcm(3,6)\n",
    "calculate_lcm(13,8)\n",
    "calculate_lcm(12,345)\n",
    "calculate_lcm(7,2)\n",
    "\n",
    "    "
   ]
  },
  {
   "cell_type": "markdown",
   "id": "6fa2ab2f",
   "metadata": {},
   "source": [
    "# 2. Write a Python Program to find HCF ?"
   ]
  },
  {
   "cell_type": "code",
   "execution_count": 2,
   "id": "027aef0b",
   "metadata": {},
   "outputs": [
    {
     "name": "stdout",
     "output_type": "stream",
     "text": [
      "The HCF of 6,12 is = 6\n",
      "The HCF of 2,3 is = 1\n",
      "The HCF of 10,23 is = 1\n"
     ]
    }
   ],
   "source": [
    "def findtheHCF(x,y):\n",
    "    if x > y:\n",
    "        smaller = y\n",
    "    else:\n",
    "        smaller = x\n",
    "        \n",
    "        for ele in range(1,smaller+1):\n",
    "            if((x%ele == 0) and (y%ele == 0)):\n",
    "                hcf = ele\n",
    "        print(f'The HCF of {x},{y} is = {hcf}')\n",
    "\n",
    "findtheHCF(6,12)\n",
    "findtheHCF(2,3)\n",
    "findtheHCF(10,23)\n",
    "           \n",
    "           "
   ]
  },
  {
   "cell_type": "markdown",
   "id": "2cb6c7e5",
   "metadata": {},
   "source": [
    "# 3. Write a Python Program to Convert Decimal to Binary, Octal and Hexadecimal ?"
   ]
  },
  {
   "cell_type": "code",
   "execution_count": 3,
   "id": "5cfca381",
   "metadata": {},
   "outputs": [
    {
     "name": "stdout",
     "output_type": "stream",
     "text": [
      "Enter the number42432423\n",
      " Binary number -> 0b10100001110111011110100111\n",
      " Octal number  -> 0o241673647\n",
      "Hexadecimal Number -> 0x28777a7\n"
     ]
    }
   ],
   "source": [
    "def change_value():\n",
    "    num = int(input(\"Enter the number\"))\n",
    "    print(f' Binary number -> {bin(num)}')\n",
    "    print(f' Octal number  -> {oct(num)}')\n",
    "    print(f'Hexadecimal Number -> {hex(num)}')    \n",
    "    \n",
    "change_value()\n",
    "    \n",
    "    "
   ]
  },
  {
   "cell_type": "markdown",
   "id": "42baa248",
   "metadata": {},
   "source": [
    "# 4. Write a Python Program to Find the ASCII value of a Character ?"
   ]
  },
  {
   "cell_type": "code",
   "execution_count": 4,
   "id": "571e56ab",
   "metadata": {},
   "outputs": [
    {
     "name": "stdout",
     "output_type": "stream",
     "text": [
      "Enter the character@\n",
      "Ascii character of @ is 64\n"
     ]
    }
   ],
   "source": [
    "def chartoAscii():\n",
    "    char = input(\"Enter the character\")\n",
    "    if len(char) > 1:\n",
    "        print(\"Enter the single character\")\n",
    "    else:\n",
    "        print(f'Ascii character of {char} is {ord(char)}')\n",
    "        \n",
    "chartoAscii()    \n",
    "    "
   ]
  },
  {
   "cell_type": "markdown",
   "id": "eb6d8d53",
   "metadata": {},
   "source": [
    "# 5. Write a Python Program to Make a Simple Calculator with 4 Basic Mathematical operations ?"
   ]
  },
  {
   "cell_type": "code",
   "execution_count": 5,
   "id": "ac26a527",
   "metadata": {},
   "outputs": [
    {
     "name": "stdout",
     "output_type": "stream",
     "text": [
      "Select a Arithmetic Operation:         \n",
      "1.Addition(+)        \n",
      "2.Division(-)        \n",
      "2.Multiplication(*)        \n",
      "4.Division(/)        \n",
      "3.Stop(0)\n",
      "\n",
      "Enter a arithmetic operation -> +\n",
      "\n",
      "Enter 1st Number: 34\n",
      "Enter 2nd Number: 454\n",
      "34+454=488\n",
      "\n",
      "Enter a arithmetic operation -> -\n",
      "\n",
      "Enter 1st Number: 434\n",
      "Enter 2nd Number: 43\n",
      "434-43=391\n",
      "\n",
      "Enter a arithmetic operation -> *\n",
      "\n",
      "Enter 1st Number: 4535\n",
      "Enter 2nd Number: 43\n",
      "4535*43=195005\n",
      "\n",
      "Enter a arithmetic operation -> /\n",
      "\n",
      "Enter 1st Number: 34\n",
      "Enter 2nd Number: 435\n",
      "34/435=0.07816091954022988\n",
      "\n",
      "Enter a arithmetic operation -> 0\n",
      "Program Stopped successfully\n"
     ]
    }
   ],
   "source": [
    "import operator\n",
    "\n",
    "ops = { \"+\": operator.add, \"-\": operator.sub, \"*\":operator.mul, \"/\":operator.truediv } \n",
    "\n",
    "print('Select a Arithmetic Operation: \\\n",
    "        \\n1.Addition(+)\\\n",
    "        \\n2.Division(-)\\\n",
    "        \\n2.Multiplication(*)\\\n",
    "        \\n4.Division(/)\\\n",
    "        \\n3.Stop(0)\\n')\n",
    "   \n",
    "\n",
    "while True:\n",
    "    operator = input('Enter a arithmetic operation -> ')\n",
    "    if operator == '0':\n",
    "        print(\"Program Stopped successfully\")\n",
    "        break\n",
    "    elif operator not in ['+','-','*','/']:\n",
    "        print(\"Please enter a valid operator\")\n",
    "    else:\n",
    "        num_1 = int(input('\\nEnter 1st Number: '))\n",
    "        num_2 = int(input('Enter 2nd Number: '))\n",
    "        print(f'{num_1}{operator}{num_2}={ops[operator](num_1,num_2)}\\n')"
   ]
  },
  {
   "cell_type": "code",
   "execution_count": null,
   "id": "ab0e3873",
   "metadata": {},
   "outputs": [],
   "source": []
  }
 ],
 "metadata": {
  "kernelspec": {
   "display_name": "Python 3 (ipykernel)",
   "language": "python",
   "name": "python3"
  },
  "language_info": {
   "codemirror_mode": {
    "name": "ipython",
    "version": 3
   },
   "file_extension": ".py",
   "mimetype": "text/x-python",
   "name": "python",
   "nbconvert_exporter": "python",
   "pygments_lexer": "ipython3",
   "version": "3.9.12"
  }
 },
 "nbformat": 4,
 "nbformat_minor": 5
}
