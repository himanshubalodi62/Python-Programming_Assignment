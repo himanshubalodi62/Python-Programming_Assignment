{
 "cells": [
  {
   "cell_type": "markdown",
   "id": "ad26261d",
   "metadata": {},
   "source": [
    "# Programming Assignment 13 solution"
   ]
  },
  {
   "cell_type": "markdown",
   "id": "a28accc2",
   "metadata": {},
   "source": [
    "### 1.Write a program that calculates and prints the value according to the given formula:\n",
    "**Q = Square root of [(2 * C * D)/H]**\n",
    "\n",
    "Following are the fixed values of C and H:\n",
    "\n",
    "C is 50. H is 30.\n",
    "\n",
    "D is the variable whose values should be input to your program in a comma-separated sequence.\n",
    "\n",
    "**Example:** Let us assume the following comma separated input sequence is given to the program:100,150,180\n",
    "\n",
    "The output of the program should be: 18,22,24"
   ]
  },
  {
   "cell_type": "code",
   "execution_count": 1,
   "id": "bb26dd1e",
   "metadata": {},
   "outputs": [
    {
     "name": "stdout",
     "output_type": "stream",
     "text": [
      "Enter D values separated by commas: 100 , 150 , 180\n",
      "18,22,24\n"
     ]
    }
   ],
   "source": [
    "import math\n",
    "\n",
    "C = 50\n",
    "H = 30\n",
    "\n",
    "def calculate_Q(D):\n",
    "    Q = round(math.sqrt((2 * C * D) / H))\n",
    "    return Q\n",
    "\n",
    "D_values = input(\"Enter D values separated by commas: \")\n",
    "D_list = D_values.split(',')\n",
    "result = []\n",
    "for D in D_list:\n",
    "    Q = calculate_Q(int(D))\n",
    "    result.append(str(Q))\n",
    "\n",
    "output = ','.join(result)\n",
    "print(output)"
   ]
  },
  {
   "cell_type": "markdown",
   "id": "8c5092c6",
   "metadata": {},
   "source": [
    "### 2.Write a program which takes 2 digits, X,Y as input and generates a 2-dimensional array. The element value in the i-th row and j-th column of the array should be i*j.\n",
    "\n",
    "**Note: i=0,1.., X-1; j=0,1,¡Y-1.**\n",
    "    \n",
    "**Example:** Suppose the following inputs are given to the program: 3,5\n",
    "        \n",
    "Then, the output of the program should be:**[[0, 0, 0, 0, 0], [0, 1, 2, 3, 4], [0, 2, 4, 6, 8]]**"
   ]
  },
  {
   "cell_type": "code",
   "execution_count": 8,
   "id": "2e4dffd0",
   "metadata": {},
   "outputs": [
    {
     "name": "stdout",
     "output_type": "stream",
     "text": [
      "Enter the No of Rows:3\n",
      "Enter the No of Columns:5\n",
      "[[0, 0, 0, 0, 0], [0, 1, 2, 3, 4], [0, 2, 4, 6, 8]]\n"
     ]
    }
   ],
   "source": [
    "import array as arr\n",
    "def generateArray():\n",
    "    x = int(input('Enter the No of Rows:'))\n",
    "    y = int(input('Enter the No of Columns:')) \n",
    "    out_array = []\n",
    "    for ele in range(x):\n",
    "        out_array.insert(x,[])\n",
    "        for sub_ele in range(y):\n",
    "            out_array[ele].append(ele*sub_ele)\n",
    "    print(out_array)\n",
    "    \n",
    "generateArray()"
   ]
  },
  {
   "cell_type": "markdown",
   "id": "1f3ea53e",
   "metadata": {},
   "source": [
    "### 3.Write a program that accepts a comma separated sequence of words as input and prints the words in a comma-separated sequence after sorting them alphabetically ?\n",
    "\n",
    "Suppose the following input is supplied to the program: **without,hello,bag,world**\n",
    "\n",
    "Then, the output should be: **bag,hello,without,world**"
   ]
  },
  {
   "cell_type": "code",
   "execution_count": 9,
   "id": "0cd18088",
   "metadata": {},
   "outputs": [
    {
     "data": {
      "text/plain": [
       "'bag, hello, without, world'"
      ]
     },
     "execution_count": 9,
     "metadata": {},
     "output_type": "execute_result"
    }
   ],
   "source": [
    "def alphabet_sorting(x):\n",
    "    x = x.split(',')\n",
    "    x.sort()\n",
    "    x = str(x).replace(\"'\", \"\").replace('[', '').replace(']', '')\n",
    "    return x\n",
    "\n",
    "x= 'without,hello,bag,world'\n",
    "alphabet_sorting(x)"
   ]
  },
  {
   "cell_type": "markdown",
   "id": "55dd65db",
   "metadata": {},
   "source": [
    "### 4.Write a program that accepts a sequence of whitespace separated words as input and prints the words after removing all duplicate words and sorting them alphanumerically.\n",
    "\n",
    "Suppose the following input is supplied to the program: **hello world and practice makes perfect and hello world again**\n",
    "\n",
    "Then, the output should be: **again and hello makes perfect practice world**"
   ]
  },
  {
   "cell_type": "code",
   "execution_count": 12,
   "id": "0c4e5fc4",
   "metadata": {},
   "outputs": [
    {
     "data": {
      "text/plain": [
       "'again and hello makes perfect practice world'"
      ]
     },
     "execution_count": 12,
     "metadata": {},
     "output_type": "execute_result"
    }
   ],
   "source": [
    "def alphabet_sorting(x):\n",
    "    x = x.split(' ')\n",
    "    output = []\n",
    "    for i in x:\n",
    "        if i not in output:\n",
    "            output.append(i)\n",
    "        \n",
    "    output.sort()\n",
    "    x = ' '.join(output)\n",
    "    return x\n",
    "\n",
    "x= 'hello world and practice makes perfect and hello world again'\n",
    "alphabet_sorting(x)"
   ]
  },
  {
   "cell_type": "markdown",
   "id": "738c1a83",
   "metadata": {},
   "source": [
    "### 5.Write a program that accepts a sentence and calculate the number of letters and digits.\n",
    "\n",
    "Suppose the following input is supplied to the program: hello world! 123\n",
    "\n",
    "Then, the output should be:\n",
    "\n",
    "LETTERS 10\n",
    "DIGITS 3"
   ]
  },
  {
   "cell_type": "code",
   "execution_count": 15,
   "id": "82410a07",
   "metadata": {},
   "outputs": [
    {
     "name": "stdout",
     "output_type": "stream",
     "text": [
      "Enter the Input String: hello world ! 123\n",
      "LETTERS 10 \n",
      "DIGITS 3\n"
     ]
    }
   ],
   "source": [
    "def countLetterAndDigits():\n",
    "    in_string = input(\"Enter the Input String: \")\n",
    "    lettersList = 'ABCDEFGHIJKLMNOPQRSTUVWXYZabcdefghijklmnopqrstuvwxyz'\n",
    "    digitsList = '0123456789'\n",
    "    letters = 0\n",
    "    digits = 0\n",
    "    for ele in in_string:\n",
    "        if ele in lettersList:\n",
    "            letters += 1\n",
    "        if ele in digitsList:\n",
    "            digits += 1\n",
    "    print(f'LETTERS {letters} \\nDIGITS {digits}')\n",
    "        \n",
    "countLetterAndDigits()"
   ]
  },
  {
   "cell_type": "markdown",
   "id": "4b5f4752",
   "metadata": {},
   "source": [
    "### 6.A website requires the users to input username and password to register. Write a program to check the validity of password input by users.\n",
    "\n",
    "Following are the criteria for checking the password:\n",
    "\n",
    "1.At least 1 letter between [a-z]\n",
    "\n",
    "2.At least 1 number between [0-9]\n",
    "\n",
    "3.At least 1 letter between [A-Z]\n",
    "\n",
    "4.At least 1 character from [$#@]\n",
    "\n",
    "5.Minimum length of transaction password: 6\n",
    "\n",
    "6.Maximum length of transaction password: 12\n",
    "\n",
    "Your program should accept a sequence of comma separated passwords and will check them according to the above criteria. Passwords that match the criteria are to be printed, each separated by a comma.\n",
    "\n",
    "Example:\n",
    "\n",
    "If the following passwords are given as input to the program: **ABd1234@1,a F1#,2w3E*,2We3345**\n",
    "\n",
    "Then, the output of the program should be:**ABd1234@1**"
   ]
  },
  {
   "cell_type": "code",
   "execution_count": null,
   "id": "a8f3cd6d",
   "metadata": {},
   "outputs": [],
   "source": [
    "import re\n",
    "\n",
    "passwords = input(\"Enter passwords: \")\n",
    "passwords = passwords.split(\",\")\n",
    "\n",
    "accepted_pass = []\n",
    "for i in passwords:\n",
    "    \n",
    "    if len(i) < 6 or len(i) > 12:\n",
    "        continue\n",
    "\n",
    "    elif not re.search(\"([a-z])+\", i):\n",
    "        continue\n",
    "\n",
    "    elif not re.search(\"([0-9])+\", i):\n",
    "        continue\n",
    "\n",
    "    elif not re.search(\"([A-Z])+\", i):\n",
    "        continue\n",
    "\n",
    "    elif not re.search(\"([$#@])+\", i):\n",
    "        continue\n",
    "\n",
    "    else:\n",
    "        accepted_pass.append(i)\n",
    "\n",
    "print((\"Accepted password: \").join(accepted_pass))"
   ]
  },
  {
   "cell_type": "code",
   "execution_count": null,
   "id": "4b5e3cc6",
   "metadata": {},
   "outputs": [],
   "source": []
  }
 ],
 "metadata": {
  "kernelspec": {
   "display_name": "Python 3 (ipykernel)",
   "language": "python",
   "name": "python3"
  },
  "language_info": {
   "codemirror_mode": {
    "name": "ipython",
    "version": 3
   },
   "file_extension": ".py",
   "mimetype": "text/x-python",
   "name": "python",
   "nbconvert_exporter": "python",
   "pygments_lexer": "ipython3",
   "version": "3.10.9"
  }
 },
 "nbformat": 4,
 "nbformat_minor": 5
}
