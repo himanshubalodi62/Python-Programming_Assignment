{
 "cells": [
  {
   "cell_type": "markdown",
   "id": "c591106e",
   "metadata": {},
   "source": [
    "# Programming Assignment 10 solution"
   ]
  },
  {
   "cell_type": "markdown",
   "id": "3020d8db",
   "metadata": {},
   "source": [
    "### 1.Write a Python Program to find sum of elements in a list ?"
   ]
  },
  {
   "cell_type": "code",
   "execution_count": 1,
   "id": "f1704204",
   "metadata": {},
   "outputs": [
    {
     "name": "stdout",
     "output_type": "stream",
     "text": [
      "Enter the No of Entries in a list:5\n",
      "Enter a element: 1\n",
      "Enter a element: 2\n",
      "Enter a element: 3\n",
      "Enter a element: 4\n",
      "Enter a element: 5\n",
      "Sum of Elements: 15\n"
     ]
    }
   ],
   "source": [
    "def sumoflist():\n",
    "    in_ele = int(input('Enter the No of Entries in a list:'))\n",
    "    in_list = []\n",
    "    for i in range(in_ele):\n",
    "        in_list.append(int(input('Enter a element: ')))\n",
    "    print(f'Sum of Elements: {sum(in_list)}')\n",
    "\n",
    "sumoflist()"
   ]
  },
  {
   "cell_type": "markdown",
   "id": "1be4561d",
   "metadata": {},
   "source": [
    "### 2.Write a Python Program to multiply all numbers in the list ?"
   ]
  },
  {
   "cell_type": "code",
   "execution_count": 2,
   "id": "4bae0172",
   "metadata": {},
   "outputs": [
    {
     "name": "stdout",
     "output_type": "stream",
     "text": [
      "The multiply of all number: -336\n"
     ]
    }
   ],
   "source": [
    "def multiply(numbers):  \n",
    "    total = 1\n",
    "    for x in numbers:\n",
    "        total *= x  \n",
    "    return total  \n",
    "numbers = (8,2,3,-1,7)\n",
    "print(\"The multiply of all number:\", multiply((numbers)))"
   ]
  },
  {
   "cell_type": "markdown",
   "id": "baf6eb97",
   "metadata": {},
   "source": [
    "### 3.Write a Python Program to find smallest number in the list ?"
   ]
  },
  {
   "cell_type": "code",
   "execution_count": 3,
   "id": "d1eb74bc",
   "metadata": {},
   "outputs": [
    {
     "name": "stdout",
     "output_type": "stream",
     "text": [
      "smallest number is : -8\n"
     ]
    }
   ],
   "source": [
    "def smallest_number(list):\n",
    "    min = list[0]\n",
    "    for i in list:\n",
    "        if i < min:\n",
    "            min = i\n",
    "    return min\n",
    "list = [0,-8,2,1]\n",
    "print(\"smallest number is :\", smallest_number(list))"
   ]
  },
  {
   "cell_type": "markdown",
   "id": "6fd8ee13",
   "metadata": {},
   "source": [
    "### 4.Write a Python Program to find largest number in the list ?"
   ]
  },
  {
   "cell_type": "code",
   "execution_count": 7,
   "id": "59e2f3fe",
   "metadata": {},
   "outputs": [
    {
     "name": "stdout",
     "output_type": "stream",
     "text": [
      "largest number is: 3234\n"
     ]
    }
   ],
   "source": [
    "def largest_number(list):\n",
    "    max = list[0]\n",
    "    for i in list:\n",
    "        if i > max:\n",
    "            max = i\n",
    "    return max\n",
    "list = [232,3234,453,55]\n",
    "print(\"largest number is:\", largest_number(list))"
   ]
  },
  {
   "cell_type": "markdown",
   "id": "77f712ea",
   "metadata": {},
   "source": [
    "### 5.Write a Python Program to find second largest number in the list ?"
   ]
  },
  {
   "cell_type": "code",
   "execution_count": 8,
   "id": "38c325e2",
   "metadata": {},
   "outputs": [
    {
     "name": "stdout",
     "output_type": "stream",
     "text": [
      "Enter the No of elements in list5\n",
      "Enter a element12\n",
      "Enter a element43\n",
      "Enter a element56\n",
      "Enter a element42\n",
      "Enter a element57\n",
      "Second largest element is: 56\n"
     ]
    }
   ],
   "source": [
    "def SecondLargestnumberInList():\n",
    "    in_ele = int(input(\"Enter the No of elements in list\"))\n",
    "    in_list = []\n",
    "    for i in range(in_ele):\n",
    "        in_list.append(int(input(\"Enter a element\")))\n",
    "        in_list.sort()  \n",
    "    print(\"Second largest element is:\", in_list[-2])  \n",
    "\n",
    "SecondLargestnumberInList()"
   ]
  },
  {
   "cell_type": "markdown",
   "id": "bc740066",
   "metadata": {},
   "source": [
    "### 6.Write a Python Program to find N largest elements in the list ?"
   ]
  },
  {
   "cell_type": "code",
   "execution_count": 9,
   "id": "91ce3244",
   "metadata": {},
   "outputs": [
    {
     "name": "stdout",
     "output_type": "stream",
     "text": [
      "The 3 largest elements in [2, 5, 1, 8, 3, 10, 6] are [10, 8, 6]\n"
     ]
    }
   ],
   "source": [
    "def find_n_largest_elements(lst,n):\n",
    "    \"\"\"\n",
    "    Returns a list of the N largest elements in the input list\n",
    "    \"\"\"\n",
    "    sorted_lst = sorted(lst,reverse=True)\n",
    "    return sorted_lst[:n]\n",
    "lst = [2,5,1,8,3,10,6]\n",
    "n = 3\n",
    "n_largest_elements = find_n_largest_elements(lst,n)\n",
    "print(f\"The {n} largest elements in {lst} are {n_largest_elements}\")\n",
    "\n",
    "\n",
    "\n",
    "    "
   ]
  },
  {
   "cell_type": "markdown",
   "id": "37a3a063",
   "metadata": {},
   "source": [
    "#### 7.Write a Python Program to find even numbers in the list ?"
   ]
  },
  {
   "cell_type": "code",
   "execution_count": 10,
   "id": "89334ba6",
   "metadata": {},
   "outputs": [
    {
     "name": "stdout",
     "output_type": "stream",
     "text": [
      "Enter the No of elements in a list:10\n",
      "Enter a Elements1\n",
      "Enter a Elements2\n",
      "Enter a Elements3\n",
      "Enter a Elements4\n",
      "Enter a Elements5\n",
      "Enter a Elements6\n",
      "Enter a Elements7\n",
      "Enter a Elements8\n",
      "Enter a Elements9\n",
      "Enter a Elements10\n",
      "The even Elements in [1, 2, 3, 4, 5, 6, 7, 8, 9, 10] are [2, 4, 6, 8, 10]\n"
     ]
    }
   ],
   "source": [
    "def evenNoInList():\n",
    "    in_ele = int(input(\"Enter the No of elements in a list:\"))\n",
    "    in_list = []\n",
    "    even_list = []\n",
    "    for ele in range(in_ele):\n",
    "        in_list.append(int(input(\"Enter a Elements\")))\n",
    "    for ele in in_list:\n",
    "        if ele%2 == 0:\n",
    "            even_list.append(ele)\n",
    "            \n",
    "    print(f\"The even Elements in {in_list} are {even_list}\")\n",
    "    \n",
    "evenNoInList()\n",
    "    "
   ]
  },
  {
   "cell_type": "markdown",
   "id": "88599363",
   "metadata": {},
   "source": [
    "### 8.Write a Python Program to find odd numbers in the list ?"
   ]
  },
  {
   "cell_type": "code",
   "execution_count": 11,
   "id": "252f3d37",
   "metadata": {},
   "outputs": [
    {
     "name": "stdout",
     "output_type": "stream",
     "text": [
      "Enter the No of elements in a list: 10\n",
      "Enter a Element: 1\n",
      "Enter a Element: 2\n",
      "Enter a Element: 3\n",
      "Enter a Element: 4\n",
      "Enter a Element: 5\n",
      "Enter a Element: 6\n",
      "Enter a Element: 7\n",
      "Enter a Element: 8\n",
      "Enter a Element: 9\n",
      "Enter a Element: 10\n",
      "The odd Elements in [1, 2, 3, 4, 5, 6, 7, 8, 9, 10] are [1, 3, 5, 7, 9]\n"
     ]
    }
   ],
   "source": [
    "def oddNoInList():\n",
    "    in_ele = int(input('Enter the No of elements in a list: '))\n",
    "    in_list = []\n",
    "    odd_list = []\n",
    "    for ele in range(in_ele):\n",
    "        in_list.append(int(input('Enter a Element: ')))\n",
    "    for ele in in_list:\n",
    "        if ele%2 != 0:\n",
    "            odd_list.append(ele)\n",
    "    print(f'The odd Elements in {in_list} are {odd_list}')\n",
    "\n",
    "oddNoInList()"
   ]
  },
  {
   "cell_type": "markdown",
   "id": "a8ae81a2",
   "metadata": {},
   "source": [
    "### 9.Write a Python Program to remove empty list from list ?"
   ]
  },
  {
   "cell_type": "code",
   "execution_count": 14,
   "id": "21aa957e",
   "metadata": {},
   "outputs": [
    {
     "name": "stdout",
     "output_type": "stream",
     "text": [
      "The list before empty list: [1, 2, [], 3, [], 4, [], 5, []]\n",
      "The list after removing empty lists: [1, 2, 3, 4, 5]\n"
     ]
    }
   ],
   "source": [
    "my_list = [1, 2, [], 3, [], 4, [], 5, []]\n",
    "print(\"The list before empty list:\",my_list)\n",
    "my_list = [x for x in my_list if x]\n",
    "\n",
    "print(\"The list after removing empty lists:\", my_list)"
   ]
  },
  {
   "cell_type": "markdown",
   "id": "e182bc3a",
   "metadata": {},
   "source": [
    "### 10.Write a Python Program to Cloning or Copying a list ?"
   ]
  },
  {
   "cell_type": "code",
   "execution_count": 21,
   "id": "0202683f",
   "metadata": {},
   "outputs": [
    {
     "name": "stdout",
     "output_type": "stream",
     "text": [
      "Clone List:   [7, 8, 9, 5, 4, 6, 5, 6]\n",
      "Clone List:   [25, 85, 68, 74, 85, 91]\n",
      "Clone List:   [65, 75, 85, 95, 95, 85, 75, 65]\n",
      "Enter a list[34,454,56,67,77,34]\n",
      "[34, 454, 56, 67, 77, 34] 2587806258112\n",
      "[34, 454, 56, 67, 77, 34] 2587806259008\n"
     ]
    }
   ],
   "source": [
    "def clone_list1(l):\n",
    "    '''\n",
    "    This function will clone a list using copy()\n",
    "    '''\n",
    "    output= l.copy()\n",
    "    \n",
    "    return output\n",
    "        \n",
    "l= [7,8,9,5,4,6,5,6]\n",
    "print(\"Clone List:  \",clone_list1(l))\n",
    "\n",
    "\n",
    "def clone_list2(l):\n",
    "    '''\n",
    "    This function will clone a list using slicing\n",
    "    '''\n",
    "    output= l[:]\n",
    "    \n",
    "    return output\n",
    "        \n",
    "l= [25,85,68,74,85,91]\n",
    "print(\"Clone List:  \",clone_list2(l))\n",
    "\n",
    "def clone_list3(l):\n",
    "    '''\n",
    "    This function will clone a list using assignment operator\n",
    "    '''\n",
    "    output= l\n",
    "    \n",
    "    return output\n",
    "        \n",
    "l= [65,75,85,95,95,85,75,65]\n",
    "print(\"Clone List:  \",clone_list4(l))\n",
    "\n",
    "\n",
    "import copy\n",
    "\n",
    "def cloneList():\n",
    "    in_list = eval(input('Enter a list'))\n",
    "    print(in_list, id(in_list))\n",
    "    cloned_list = in_list.copy()\n",
    "    print(cloned_list, id(cloned_list))\n",
    "\n",
    "cloneList()\n"
   ]
  },
  {
   "cell_type": "markdown",
   "id": "cd00f450",
   "metadata": {},
   "source": [
    "### 11.Write a Python Program to count occurences of an element in a list ?"
   ]
  },
  {
   "cell_type": "code",
   "execution_count": 23,
   "id": "1f0bbae0",
   "metadata": {},
   "outputs": [
    {
     "name": "stdout",
     "output_type": "stream",
     "text": [
      "Enter the elements of the list: [23,45,565,5,5,5,52,2,2,34]\n",
      "Enter the element to find: 5\n",
      "There are 3 occurences of 5 in [23, 45, 565, 5, 5, 5, 52, 2, 2, 34]\n",
      "Occurance List:   3\n"
     ]
    }
   ],
   "source": [
    "def checkOccurence():\n",
    "    in_list = eval(input('Enter the elements of the list: '))\n",
    "    in_num = eval(input('Enter the element to find: '))\n",
    "    count = 0\n",
    "    if in_num in in_list:\n",
    "        for ele in in_list:\n",
    "            if ele == in_num:\n",
    "                count = count+1\n",
    "    print(f'There are {count} occurences of {in_num} in {in_list}')\n",
    "    \n",
    "checkOccurence()\n",
    "\n",
    "\n",
    "\n",
    "def occurance(l, n):\n",
    "    '''\n",
    "    This function will return the occurance of an element in list using count()\n",
    "    '''\n",
    "            \n",
    "    return l.count(n)\n",
    "\n",
    "\n",
    "l= ['S','A','A','I','S','I','S','A']\n",
    "n = 'A'\n",
    "print(\"Occurance List:  \",occurance(l, n))"
   ]
  },
  {
   "cell_type": "code",
   "execution_count": null,
   "id": "5bda28aa",
   "metadata": {},
   "outputs": [],
   "source": []
  },
  {
   "cell_type": "code",
   "execution_count": null,
   "id": "a11c7646",
   "metadata": {},
   "outputs": [],
   "source": []
  }
 ],
 "metadata": {
  "kernelspec": {
   "display_name": "Python 3 (ipykernel)",
   "language": "python",
   "name": "python3"
  },
  "language_info": {
   "codemirror_mode": {
    "name": "ipython",
    "version": 3
   },
   "file_extension": ".py",
   "mimetype": "text/x-python",
   "name": "python",
   "nbconvert_exporter": "python",
   "pygments_lexer": "ipython3",
   "version": "3.10.9"
  }
 },
 "nbformat": 4,
 "nbformat_minor": 5
}
